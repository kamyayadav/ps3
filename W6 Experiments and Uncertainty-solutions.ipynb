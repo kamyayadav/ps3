{
 "cells": [
  {
   "cell_type": "markdown",
   "id": "542a7586-154f-4753-a78a-7ed2d6633622",
   "metadata": {},
   "source": [
    "# W6 Experiments and Uncertainty: Solutions\n",
    "\n",
    "This week we are going to get more practice using the difference in means function from last week and get an introduction to the standard error and t-statistic.\n",
    "\n",
    "We will be using the lobbyist data from this week. \n",
    "\n",
    "Before we dive into the code, here are some of the important concepts of the week: \n",
    "\n",
    "- **True Average Treatment Effect**: If we could see all the potential outcomes, the actual truth about what the causal effect of a treatment is.\n",
    "- **Estimate**: From a particular study run a particular time, our best guess of what the true average treatment effect is.\n",
    "- **Bias**: When a study's estimates are systematically wrong in a particular direction; e.g., because of omitted variable bias. Observational studies typically are biased. Experiments have no bias. If a study design is biased, it would be wrong even if its sample size were infinitely large.\n",
    "- **Noise**: Because of random chance, a study's estimate differs from the truth, even though it is on average correct. If a study had an infinitely large sample size, it would have no noise. Experiments can also have noise. \n",
    "- **Standard Error**: A way of measuring *how much* a study's estimate will differ from the truth (and between different runs of the same experiment) because of random chance. I.e., a measure of how much noise there is in an experiment.\n",
    "- **t-statistic**: Defined as the estimate divided by the standard error. Gives an indication of how likely a study's result is to have arisen by chance. (More soon on how to use this.)"
   ]
  },
  {
   "cell_type": "code",
   "execution_count": 1,
   "id": "746e89c6-76bf-4180-b8f4-b9b9dac7aa34",
   "metadata": {},
   "outputs": [
    {
     "data": {
      "text/html": [
       "<table class=\"dataframe\">\n",
       "<caption>A data.frame: 6 × 5</caption>\n",
       "<thead>\n",
       "\t<tr><th></th><th scope=col>caseid</th><th scope=col>supportgroup</th><th scope=col>treat</th><th scope=col>ally</th><th scope=col>female</th></tr>\n",
       "\t<tr><th></th><th scope=col>&lt;int&gt;</th><th scope=col>&lt;int&gt;</th><th scope=col>&lt;chr&gt;</th><th scope=col>&lt;dbl&gt;</th><th scope=col>&lt;int&gt;</th></tr>\n",
       "</thead>\n",
       "<tbody>\n",
       "\t<tr><th scope=row>1</th><td> 36</td><td>0</td><td>control</td><td>0.3333333</td><td>0</td></tr>\n",
       "\t<tr><th scope=row>2</th><td> 64</td><td>0</td><td>control</td><td>0.3333333</td><td>0</td></tr>\n",
       "\t<tr><th scope=row>3</th><td> 56</td><td>0</td><td>control</td><td>0.3333333</td><td>0</td></tr>\n",
       "\t<tr><th scope=row>4</th><td> 96</td><td>0</td><td>control</td><td>0.0000000</td><td>0</td></tr>\n",
       "\t<tr><th scope=row>5</th><td>101</td><td>0</td><td>control</td><td>0.0000000</td><td>0</td></tr>\n",
       "\t<tr><th scope=row>6</th><td> 82</td><td>0</td><td>control</td><td>0.0000000</td><td>1</td></tr>\n",
       "</tbody>\n",
       "</table>\n"
      ],
      "text/latex": [
       "A data.frame: 6 × 5\n",
       "\\begin{tabular}{r|lllll}\n",
       "  & caseid & supportgroup & treat & ally & female\\\\\n",
       "  & <int> & <int> & <chr> & <dbl> & <int>\\\\\n",
       "\\hline\n",
       "\t1 &  36 & 0 & control & 0.3333333 & 0\\\\\n",
       "\t2 &  64 & 0 & control & 0.3333333 & 0\\\\\n",
       "\t3 &  56 & 0 & control & 0.3333333 & 0\\\\\n",
       "\t4 &  96 & 0 & control & 0.0000000 & 0\\\\\n",
       "\t5 & 101 & 0 & control & 0.0000000 & 0\\\\\n",
       "\t6 &  82 & 0 & control & 0.0000000 & 1\\\\\n",
       "\\end{tabular}\n"
      ],
      "text/markdown": [
       "\n",
       "A data.frame: 6 × 5\n",
       "\n",
       "| <!--/--> | caseid &lt;int&gt; | supportgroup &lt;int&gt; | treat &lt;chr&gt; | ally &lt;dbl&gt; | female &lt;int&gt; |\n",
       "|---|---|---|---|---|---|\n",
       "| 1 |  36 | 0 | control | 0.3333333 | 0 |\n",
       "| 2 |  64 | 0 | control | 0.3333333 | 0 |\n",
       "| 3 |  56 | 0 | control | 0.3333333 | 0 |\n",
       "| 4 |  96 | 0 | control | 0.0000000 | 0 |\n",
       "| 5 | 101 | 0 | control | 0.0000000 | 0 |\n",
       "| 6 |  82 | 0 | control | 0.0000000 | 1 |\n",
       "\n"
      ],
      "text/plain": [
       "  caseid supportgroup treat   ally      female\n",
       "1  36    0            control 0.3333333 0     \n",
       "2  64    0            control 0.3333333 0     \n",
       "3  56    0            control 0.3333333 0     \n",
       "4  96    0            control 0.0000000 0     \n",
       "5 101    0            control 0.0000000 0     \n",
       "6  82    0            control 0.0000000 1     "
      ]
     },
     "metadata": {},
     "output_type": "display_data"
    }
   ],
   "source": [
    "#let's start by loading data and a package \n",
    "data <- read.csv('ps3_lobbying.csv')\n",
    "head(data)\n",
    "library(estimatr)"
   ]
  },
  {
   "cell_type": "markdown",
   "id": "c14d70fa-0567-456b-a849-6718f9cb1907",
   "metadata": {},
   "source": [
    "Here is a quick reminder of what each column means:\n",
    "\n",
    "- `caseid`: Number that identifies each legislator/district\n",
    "- `supportgroup`: This is the *outcome*. It is a measure of whether the legislator agreed to list their name publicly as a \"sponsor\" of the bill.\n",
    "- `treat`: This is the *treatment*. It has several possible values:\n",
    "    - `\"control\"`: the office received no contact from the lobbyist\n",
    "    - `\"officelobby\"`: the legislator was asked to meet to discuss the bill in their office\n",
    "    - `\"sociallobby\"`: the legislator was asked to meet to discuss the bill at a social location (a restaurant or bar)\n",
    "- `ally`: The authors thought that social lobbying might be especially effective among legislators who had supported the group's priorities in the past. To measure this, they asked the lobbyist: \"In your opinion, how well does the phrase ‘ally of the interest group’ describe the legislator?\" This is therefore the lobbyists' rating of whether the legislator is an ally of the interest group (values 0, 1/3, 2/3, and 1).\n",
    "- `female` : legislator gender, 1 = legislator is female; 0 = not\n",
    "  "
   ]
  },
  {
   "cell_type": "markdown",
   "id": "2397c609-779d-4b81-a357-707d9c373fff",
   "metadata": {},
   "source": [
    "## Average treatment effects \n",
    "\n",
    "Calculate the average treatment effect between the control group and the social lobby group, using the difference in means function, as I demonstrate comparing the control group to the office lobby group. "
   ]
  },
  {
   "cell_type": "code",
   "execution_count": 2,
   "id": "24d0fe35-9ad3-4241-a301-9ccdadaad599",
   "metadata": {},
   "outputs": [
    {
     "data": {
      "text/plain": [
       "Design:  Standard \n",
       "                     Estimate Std. Error     t value  Pr(>|t|)   CI Lower\n",
       "treatofficelobby -0.003947368 0.06118912 -0.06451096 0.9487337 -0.1258275\n",
       "                  CI Upper       DF\n",
       "treatofficelobby 0.1179327 75.56205"
      ]
     },
     "metadata": {},
     "output_type": "display_data"
    }
   ],
   "source": [
    "## example \n",
    "diff.in.means <- difference_in_means(supportgroup ~ treat, data, condition1 = \"control\", condition2 = \"officelobby\")\n",
    "diff.in.means"
   ]
  },
  {
   "cell_type": "markdown",
   "id": "c9ff417f-99f0-40f2-832c-13f2cee4d0fd",
   "metadata": {},
   "source": [
    "Before we run the main code for the treatment effect, practice using the difference in means function by calculate the difference in means in the outcome (`supportgroup`) between men and women (`female`) "
   ]
  },
  {
   "cell_type": "code",
   "execution_count": 3,
   "id": "b2836d55-ff6a-447a-9b24-c40a76ef6d65",
   "metadata": {},
   "outputs": [
    {
     "data": {
      "text/plain": [
       "Design:  Standard \n",
       "        Estimate Std. Error  t value  Pr(>|t|)    CI Lower  CI Upper       DF\n",
       "female 0.1026393 0.07844012 1.308505 0.1979065 -0.05571832 0.2609969 41.47795"
      ]
     },
     "metadata": {},
     "output_type": "display_data"
    }
   ],
   "source": [
    "gender.dim <- difference_in_means(supportgroup ~ female, data, condition1 = 0, condition2 = 1) \n",
    "gender.dim"
   ]
  },
  {
   "cell_type": "markdown",
   "id": "888b6c2f-a0b1-48d0-84a3-1b7523e6f495",
   "metadata": {},
   "source": [
    "Now calculate the average treatment effect by comparing the outcome (`supportgroup`) between the control group and the social lobby group. "
   ]
  },
  {
   "cell_type": "code",
   "execution_count": 4,
   "id": "729c7a7b-b1cd-4d52-a74f-0047af37e1f8",
   "metadata": {},
   "outputs": [
    {
     "data": {
      "text/plain": [
       "Design:  Standard \n",
       "                  Estimate Std. Error  t value  Pr(>|t|)    CI Lower  CI Upper\n",
       "treatsociallobby 0.1161746 0.07675608 1.513555 0.1345858 -0.03687757 0.2692267\n",
       "                       DF\n",
       "treatsociallobby 70.86971"
      ]
     },
     "metadata": {},
     "output_type": "display_data"
    }
   ],
   "source": [
    "avg.treat.effect <- difference_in_means(supportgroup ~ treat, data, condition1 = \"control\", condition2 = \"sociallobby\")\n",
    "avg.treat.effect "
   ]
  },
  {
   "cell_type": "markdown",
   "id": "31e0deaf-a4dc-4c32-a90a-23d0892eebe6",
   "metadata": {},
   "source": [
    "## Interpreting results \n",
    "\n",
    "- What is the estimate you find from running the above code?\n",
    "    - We see that if a senator was asked to meet in a social setting, they were 11.6 percentage points more likely to put their name as a sponsor on a bill than if they were in the control group. \n",
    "- What is the standard error?\n",
    "    - The standard error associated with the estimate is 0.076. The standard error is a measure of noise and the smaller the standard error the less the noise in our data. \n",
    "- What is the t-statistic?\n",
    "    - The t-statistic associated with the estimate is 1.51. We can get this by dividing the difference in means by the standard error.  "
   ]
  }
 ],
 "metadata": {
  "kernelspec": {
   "display_name": "R",
   "language": "R",
   "name": "ir"
  },
  "language_info": {
   "codemirror_mode": "r",
   "file_extension": ".r",
   "mimetype": "text/x-r-source",
   "name": "R",
   "pygments_lexer": "r",
   "version": "4.3.2"
  }
 },
 "nbformat": 4,
 "nbformat_minor": 5
}
