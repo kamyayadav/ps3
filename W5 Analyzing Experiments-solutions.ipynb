{
 "cells": [
  {
   "cell_type": "markdown",
   "id": "ea60a7f1-42c4-4605-9386-6d737680fac9",
   "metadata": {},
   "source": [
    "# Week 5: Analyzing Experiments - Solutions\n",
    "\n",
    "In this week's section notebook, we will practice the R skills we have learnt so far and apply them to the Gerber, Green and Larimer (2008) data on social pressure in get out the vote messages. \n",
    "\n",
    "Let's start by reading in the data. "
   ]
  },
  {
   "cell_type": "code",
   "execution_count": 1,
   "id": "03a18bd5-3829-4dc9-93fb-24b48512dd60",
   "metadata": {},
   "outputs": [
    {
     "data": {
      "text/html": [
       "<table class=\"dataframe\">\n",
       "<caption>A data.frame: 6 × 13</caption>\n",
       "<thead>\n",
       "\t<tr><th></th><th scope=col>outcome_voted</th><th scope=col>control_group</th><th scope=col>treat_civic</th><th scope=col>treat_hawthorne</th><th scope=col>treat_self</th><th scope=col>treat_neighbors</th><th scope=col>sex</th><th scope=col>yob</th><th scope=col>g2000</th><th scope=col>g2002</th><th scope=col>median_income</th><th scope=col>p2004</th><th scope=col>democrat</th></tr>\n",
       "\t<tr><th></th><th scope=col>&lt;int&gt;</th><th scope=col>&lt;int&gt;</th><th scope=col>&lt;int&gt;</th><th scope=col>&lt;int&gt;</th><th scope=col>&lt;int&gt;</th><th scope=col>&lt;int&gt;</th><th scope=col>&lt;chr&gt;</th><th scope=col>&lt;int&gt;</th><th scope=col>&lt;int&gt;</th><th scope=col>&lt;int&gt;</th><th scope=col>&lt;int&gt;</th><th scope=col>&lt;int&gt;</th><th scope=col>&lt;int&gt;</th></tr>\n",
       "</thead>\n",
       "<tbody>\n",
       "\t<tr><th scope=row>1</th><td>0</td><td>0</td><td>0</td><td>0</td><td>1</td><td>0</td><td>female</td><td>1962</td><td>1</td><td>0</td><td>52688</td><td>1</td><td>1</td></tr>\n",
       "\t<tr><th scope=row>2</th><td>1</td><td>0</td><td>0</td><td>0</td><td>1</td><td>0</td><td>female</td><td>1970</td><td>1</td><td>1</td><td>37774</td><td>1</td><td>0</td></tr>\n",
       "\t<tr><th scope=row>3</th><td>1</td><td>1</td><td>0</td><td>0</td><td>0</td><td>0</td><td>male  </td><td>1951</td><td>1</td><td>0</td><td>70230</td><td>1</td><td>1</td></tr>\n",
       "\t<tr><th scope=row>4</th><td>0</td><td>1</td><td>0</td><td>0</td><td>0</td><td>0</td><td>male  </td><td>1967</td><td>1</td><td>1</td><td>35644</td><td>0</td><td>0</td></tr>\n",
       "\t<tr><th scope=row>5</th><td>0</td><td>1</td><td>0</td><td>0</td><td>0</td><td>0</td><td>female</td><td>1973</td><td>1</td><td>1</td><td>46908</td><td>1</td><td>0</td></tr>\n",
       "\t<tr><th scope=row>6</th><td>0</td><td>1</td><td>0</td><td>0</td><td>0</td><td>0</td><td>male  </td><td>1964</td><td>1</td><td>1</td><td>63693</td><td>1</td><td>0</td></tr>\n",
       "</tbody>\n",
       "</table>\n"
      ],
      "text/latex": [
       "A data.frame: 6 × 13\n",
       "\\begin{tabular}{r|lllllllllllll}\n",
       "  & outcome\\_voted & control\\_group & treat\\_civic & treat\\_hawthorne & treat\\_self & treat\\_neighbors & sex & yob & g2000 & g2002 & median\\_income & p2004 & democrat\\\\\n",
       "  & <int> & <int> & <int> & <int> & <int> & <int> & <chr> & <int> & <int> & <int> & <int> & <int> & <int>\\\\\n",
       "\\hline\n",
       "\t1 & 0 & 0 & 0 & 0 & 1 & 0 & female & 1962 & 1 & 0 & 52688 & 1 & 1\\\\\n",
       "\t2 & 1 & 0 & 0 & 0 & 1 & 0 & female & 1970 & 1 & 1 & 37774 & 1 & 0\\\\\n",
       "\t3 & 1 & 1 & 0 & 0 & 0 & 0 & male   & 1951 & 1 & 0 & 70230 & 1 & 1\\\\\n",
       "\t4 & 0 & 1 & 0 & 0 & 0 & 0 & male   & 1967 & 1 & 1 & 35644 & 0 & 0\\\\\n",
       "\t5 & 0 & 1 & 0 & 0 & 0 & 0 & female & 1973 & 1 & 1 & 46908 & 1 & 0\\\\\n",
       "\t6 & 0 & 1 & 0 & 0 & 0 & 0 & male   & 1964 & 1 & 1 & 63693 & 1 & 0\\\\\n",
       "\\end{tabular}\n"
      ],
      "text/markdown": [
       "\n",
       "A data.frame: 6 × 13\n",
       "\n",
       "| <!--/--> | outcome_voted &lt;int&gt; | control_group &lt;int&gt; | treat_civic &lt;int&gt; | treat_hawthorne &lt;int&gt; | treat_self &lt;int&gt; | treat_neighbors &lt;int&gt; | sex &lt;chr&gt; | yob &lt;int&gt; | g2000 &lt;int&gt; | g2002 &lt;int&gt; | median_income &lt;int&gt; | p2004 &lt;int&gt; | democrat &lt;int&gt; |\n",
       "|---|---|---|---|---|---|---|---|---|---|---|---|---|---|\n",
       "| 1 | 0 | 0 | 0 | 0 | 1 | 0 | female | 1962 | 1 | 0 | 52688 | 1 | 1 |\n",
       "| 2 | 1 | 0 | 0 | 0 | 1 | 0 | female | 1970 | 1 | 1 | 37774 | 1 | 0 |\n",
       "| 3 | 1 | 1 | 0 | 0 | 0 | 0 | male   | 1951 | 1 | 0 | 70230 | 1 | 1 |\n",
       "| 4 | 0 | 1 | 0 | 0 | 0 | 0 | male   | 1967 | 1 | 1 | 35644 | 0 | 0 |\n",
       "| 5 | 0 | 1 | 0 | 0 | 0 | 0 | female | 1973 | 1 | 1 | 46908 | 1 | 0 |\n",
       "| 6 | 0 | 1 | 0 | 0 | 0 | 0 | male   | 1964 | 1 | 1 | 63693 | 1 | 0 |\n",
       "\n"
      ],
      "text/plain": [
       "  outcome_voted control_group treat_civic treat_hawthorne treat_self\n",
       "1 0             0             0           0               1         \n",
       "2 1             0             0           0               1         \n",
       "3 1             1             0           0               0         \n",
       "4 0             1             0           0               0         \n",
       "5 0             1             0           0               0         \n",
       "6 0             1             0           0               0         \n",
       "  treat_neighbors sex    yob  g2000 g2002 median_income p2004 democrat\n",
       "1 0               female 1962 1     0     52688         1     1       \n",
       "2 0               female 1970 1     1     37774         1     0       \n",
       "3 0               male   1951 1     0     70230         1     1       \n",
       "4 0               male   1967 1     1     35644         0     0       \n",
       "5 0               female 1973 1     1     46908         1     0       \n",
       "6 0               male   1964 1     1     63693         1     0       "
      ]
     },
     "metadata": {},
     "output_type": "display_data"
    }
   ],
   "source": [
    "#make sure you run this code chunk \n",
    "social <- read.csv('ps3_week5_social_pressure.csv')\n",
    "head(social)"
   ]
  },
  {
   "cell_type": "markdown",
   "id": "1da93b41-c065-4962-b807-32a8869fe216",
   "metadata": {},
   "source": [
    "Here's what the variables mean:\n",
    "\n",
    "- Outcome: `outcome_voted`: 1 if that particular person voted, 0 if not.\n",
    "- Treatments:\n",
    "    - `control_group` : 1 if assigned in control group and 0 otherwise.\n",
    "    - `treat_civic`: mail with \"do your civic duty\" message, 1 if assigned and 0 otherwise.\n",
    "    - `treat_hawthorne`: mail that says that the voter is being observed, 1 if assigned and 0 otherwise.\n",
    "    - `treat_self`: mail with own voting history, 1 if assigned and 0 otherwise.\n",
    "    - `treat_neighbors`: mail with own and neighbors' voting history, 1 if assigned and 0 otherwise.\n",
    "- Other Variables:\n",
    "    - `sex`: 1 female, 0 male\n",
    "    - `yob`: year of birth\n",
    "    - `g2000`: voted in 2000 general election\n",
    "    - `g2002`: voted in 2002 general election\n",
    "    - `median_income`: median income in the last 12 months in person's neighborhood\n",
    "    - `p2004`: voted in 2004 primary election\n",
    "    - `democrat`: registered Democrat\n",
    "   \n",
    "### Reminder about Treatment Conditions\n",
    "\n",
    "Here's a reminder about the differences between the treatment conditions. In the table below, each row is one of the conditions, and the columns tell about the mail sent to the people in that condition. The end of the notebook has pictures of all the mail sent to people in the various conditions if you want to take a look.\n",
    "    \n",
    "<table>\n",
    "<thead>\n",
    "  <tr>\n",
    "    <th>Condition</th>\n",
    "    <th>Mailed Reminder<br>to Vote?</th>\n",
    "    <th>Told Turnout<br>Being Watched</th>\n",
    "    <th>Given Own<br>Vote History</th>\n",
    "    <th>Neighbors and<br>Self Given All<br>Neighbors' Vote<br>History</th>\n",
    "  </tr>\n",
    "</thead>\n",
    "<tbody>\n",
    "  <tr>\n",
    "    <td>Control</td>\n",
    "    <td>No</td>\n",
    "    <td>No</td>\n",
    "    <td>No</td>\n",
    "    <td>No</td>\n",
    "  </tr>\n",
    "  <tr>\n",
    "    <td>Civic Duty</td>\n",
    "    <td>Yes</td>\n",
    "    <td>No</td>\n",
    "    <td>No</td>\n",
    "    <td>No</td>\n",
    "  </tr>\n",
    "  <tr>\n",
    "    <td>Hawthorne</td>\n",
    "    <td>Yes</td>\n",
    "    <td>Yes</td>\n",
    "    <td>No</td>\n",
    "    <td>No</td>\n",
    "  </tr>\n",
    "  <tr>\n",
    "    <td>Self</td>\n",
    "    <td>Yes</td>\n",
    "    <td>Yes</td>\n",
    "    <td>Yes</td>\n",
    "    <td>No</td>\n",
    "  </tr>\n",
    "  <tr>\n",
    "    <td>Neighbors</td>\n",
    "    <td>Yes</td>\n",
    "    <td>Yes</td>\n",
    "    <td>Yes</td>\n",
    "    <td>Yes</td>\n",
    "  </tr>\n",
    "</tbody>\n",
    "</table>"
   ]
  },
  {
   "cell_type": "markdown",
   "id": "50ca4805-2c30-4531-96c3-bbe058084a6a",
   "metadata": {},
   "source": [
    "## Let's start by creating five subsets of the data corresponding to the treatment conditions \n",
    "\n",
    "Create subsets of the data for the `control_group`, `treat_civic`, `treat_hawthorne`, `treat_self`, and `treat_neighbors` conditions. "
   ]
  },
  {
   "cell_type": "code",
   "execution_count": 3,
   "id": "3423c0bf-9988-4d39-afc7-6e7678102b78",
   "metadata": {},
   "outputs": [],
   "source": [
    "control.subset <- subset(social, control_group == 1) \n",
    "civic.subset <- subset(social, treat_civic == 1) \n",
    "hawthorne.subset <- subset(social, treat_hawthorne == 1) \n",
    "self.subset <- subset(social, treat_self == 1) \n",
    "neighbor.subset <- subset(social, treat_neighbors == 1) "
   ]
  },
  {
   "cell_type": "markdown",
   "id": "d53b612f-0827-4488-86ab-5752ef8aef8e",
   "metadata": {},
   "source": [
    "## Let's show how experiments take care of omitted variables bias by taking the average of some variables\n",
    "\n",
    "Calculate the average income (`median_income`), average voter turnout in 2000 (`g2000`), and average number of democrats (`democrat`) for each subset you previously created. "
   ]
  },
  {
   "cell_type": "code",
   "execution_count": 5,
   "id": "e6b3cef2-cd6b-4ff3-bc68-0f5f47ea829e",
   "metadata": {},
   "outputs": [
    {
     "data": {
      "text/html": [
       "59780.5939859399"
      ],
      "text/latex": [
       "59780.5939859399"
      ],
      "text/markdown": [
       "59780.5939859399"
      ],
      "text/plain": [
       "[1] 59780.59"
      ]
     },
     "metadata": {},
     "output_type": "display_data"
    },
    {
     "data": {
      "text/html": [
       "59793.7871106445"
      ],
      "text/latex": [
       "59793.7871106445"
      ],
      "text/markdown": [
       "59793.7871106445"
      ],
      "text/plain": [
       "[1] 59793.79"
      ]
     },
     "metadata": {},
     "output_type": "display_data"
    },
    {
     "data": {
      "text/html": [
       "59764.7087791221"
      ],
      "text/latex": [
       "59764.7087791221"
      ],
      "text/markdown": [
       "59764.7087791221"
      ],
      "text/plain": [
       "[1] 59764.71"
      ]
     },
     "metadata": {},
     "output_type": "display_data"
    },
    {
     "data": {
      "text/html": [
       "59783.6128"
      ],
      "text/latex": [
       "59783.6128"
      ],
      "text/markdown": [
       "59783.6128"
      ],
      "text/plain": [
       "[1] 59783.61"
      ]
     },
     "metadata": {},
     "output_type": "display_data"
    },
    {
     "data": {
      "text/html": [
       "59775.74015"
      ],
      "text/latex": [
       "59775.74015"
      ],
      "text/markdown": [
       "59775.74015"
      ],
      "text/plain": [
       "[1] 59775.74"
      ]
     },
     "metadata": {},
     "output_type": "display_data"
    },
    {
     "data": {
      "text/html": [
       "0.865938659386594"
      ],
      "text/latex": [
       "0.865938659386594"
      ],
      "text/markdown": [
       "0.865938659386594"
      ],
      "text/plain": [
       "[1] 0.8659387"
      ]
     },
     "metadata": {},
     "output_type": "display_data"
    },
    {
     "data": {
      "text/html": [
       "0.865106744662767"
      ],
      "text/latex": [
       "0.865106744662767"
      ],
      "text/markdown": [
       "0.865106744662767"
      ],
      "text/plain": [
       "[1] 0.8651067"
      ]
     },
     "metadata": {},
     "output_type": "display_data"
    },
    {
     "data": {
      "text/html": [
       "0.867113288671133"
      ],
      "text/latex": [
       "0.867113288671133"
      ],
      "text/markdown": [
       "0.867113288671133"
      ],
      "text/plain": [
       "[1] 0.8671133"
      ]
     },
     "metadata": {},
     "output_type": "display_data"
    },
    {
     "data": {
      "text/html": [
       "0.86235"
      ],
      "text/latex": [
       "0.86235"
      ],
      "text/markdown": [
       "0.86235"
      ],
      "text/plain": [
       "[1] 0.86235"
      ]
     },
     "metadata": {},
     "output_type": "display_data"
    },
    {
     "data": {
      "text/html": [
       "0.8656"
      ],
      "text/latex": [
       "0.8656"
      ],
      "text/markdown": [
       "0.8656"
      ],
      "text/plain": [
       "[1] 0.8656"
      ]
     },
     "metadata": {},
     "output_type": "display_data"
    },
    {
     "data": {
      "text/html": [
       "0.124991249912499"
      ],
      "text/latex": [
       "0.124991249912499"
      ],
      "text/markdown": [
       "0.124991249912499"
      ],
      "text/plain": [
       "[1] 0.1249912"
      ]
     },
     "metadata": {},
     "output_type": "display_data"
    },
    {
     "data": {
      "text/html": [
       "0.124793760311984"
      ],
      "text/latex": [
       "0.124793760311984"
      ],
      "text/markdown": [
       "0.124793760311984"
      ],
      "text/plain": [
       "[1] 0.1247938"
      ]
     },
     "metadata": {},
     "output_type": "display_data"
    },
    {
     "data": {
      "text/html": [
       "0.12958704129587"
      ],
      "text/latex": [
       "0.12958704129587"
      ],
      "text/markdown": [
       "0.12958704129587"
      ],
      "text/plain": [
       "[1] 0.129587"
      ]
     },
     "metadata": {},
     "output_type": "display_data"
    },
    {
     "data": {
      "text/html": [
       "0.12395"
      ],
      "text/latex": [
       "0.12395"
      ],
      "text/markdown": [
       "0.12395"
      ],
      "text/plain": [
       "[1] 0.12395"
      ]
     },
     "metadata": {},
     "output_type": "display_data"
    },
    {
     "data": {
      "text/html": [
       "0.1268"
      ],
      "text/latex": [
       "0.1268"
      ],
      "text/markdown": [
       "0.1268"
      ],
      "text/plain": [
       "[1] 0.1268"
      ]
     },
     "metadata": {},
     "output_type": "display_data"
    }
   ],
   "source": [
    "mean.income.control <- mean(control.subset$median_income)\n",
    "mean.turnout.control <- mean(control.subset$g2000)\n",
    "mean.dem.control <- mean(control.subset$democrat) \n",
    "\n",
    "mean.income.civic <- mean(civic.subset$median_income) \n",
    "mean.turnout.civic <- mean(civic.subset$g2000)\n",
    "mean.dem.civic <- mean(civic.subset$democrat)\n",
    "\n",
    "mean.income.hawthorne <- mean(hawthorne.subset$median_income) \n",
    "mean.turnout.hawthorne <- mean(hawthorne.subset$g2000) \n",
    "mean.dem.hawthorne <- mean(hawthorne.subset$democrat) \n",
    "\n",
    "mean.income.self <- mean(self.subset$median_income) \n",
    "mean.turnout.self <- mean(self.subset$g2000)\n",
    "mean.dem.self <- mean(self.subset$democrat)\n",
    "\n",
    "mean.income.neighbor <- mean(neighbor.subset$median_income)  \n",
    "mean.turnout.neighbor <- mean(neighbor.subset$g2000)\n",
    "mean.dem.neighbor <- mean(neighbor.subset$democrat)\n",
    "\n",
    "mean.income.control\n",
    "mean.income.civic\n",
    "mean.income.hawthorne\n",
    "mean.income.self\n",
    "mean.income.neighbor\n",
    "\n",
    "mean.turnout.control\n",
    "mean.turnout.civic\n",
    "mean.turnout.hawthorne\n",
    "mean.turnout.self\n",
    "mean.turnout.neighbor\n",
    "\n",
    "mean.dem.control\n",
    "mean.dem.civic\n",
    "mean.dem.hawthorne\n",
    "mean.dem.self\n",
    "mean.dem.neighbor"
   ]
  },
  {
   "cell_type": "markdown",
   "id": "c44c9974-3b8c-4a37-be00-97536876696f",
   "metadata": {},
   "source": [
    "## What do you see comparing the averages across the treatment conditions? "
   ]
  },
  {
   "cell_type": "markdown",
   "id": "150337c0-fdf7-4859-b105-3a459fa6c0d8",
   "metadata": {},
   "source": [
    "## Next let's calculate some average treatment effects\n",
    "\n",
    "We are going to calculate average treatment effects by calculating the difference in mean. What this means is: \n",
    "- You calculate the mean in the treatment condition\n",
    "- You calculate the mean in the control condition\n",
    "- You subtract the means from each other\n",
    "\n",
    "Using this three stage process, do the following:\n",
    "\n",
    "1. Calculate the difference in means for voter turnout (`outcome_voted`) for each treatment condition compared to the control condition (that is, control-civic, control-hawthorne, control-self, control-neighbor)\n",
    "2. Then calculate the difference in means for voter turnout (`outcome_voted`) comparing control to civic, civic to hawthorne, hawthorne to self, and self to neighbor.  "
   ]
  },
  {
   "cell_type": "code",
   "execution_count": 7,
   "id": "15a9d70d-40e6-45b2-b780-c9ed7f03ae71",
   "metadata": {},
   "outputs": [
    {
     "data": {
      "text/html": [
       "-0.0225806367858189"
      ],
      "text/latex": [
       "-0.0225806367858189"
      ],
      "text/markdown": [
       "-0.0225806367858189"
      ],
      "text/plain": [
       "[1] -0.02258064"
      ]
     },
     "metadata": {},
     "output_type": "display_data"
    },
    {
     "data": {
      "text/html": [
       "-0.0259139792677799"
      ],
      "text/latex": [
       "-0.0259139792677799"
      ],
      "text/markdown": [
       "-0.0259139792677799"
      ],
      "text/plain": [
       "[1] -0.02591398"
      ]
     },
     "metadata": {},
     "output_type": "display_data"
    },
    {
     "data": {
      "text/html": [
       "-0.0526469609696097"
      ],
      "text/latex": [
       "-0.0526469609696097"
      ],
      "text/markdown": [
       "-0.0526469609696097"
      ],
      "text/plain": [
       "[1] -0.05264696"
      ]
     },
     "metadata": {},
     "output_type": "display_data"
    },
    {
     "data": {
      "text/html": [
       "-0.0863969609696097"
      ],
      "text/latex": [
       "-0.0863969609696097"
      ],
      "text/markdown": [
       "-0.0863969609696097"
      ],
      "text/plain": [
       "[1] -0.08639696"
      ]
     },
     "metadata": {},
     "output_type": "display_data"
    },
    {
     "data": {
      "text/html": [
       "-0.0225806367858189"
      ],
      "text/latex": [
       "-0.0225806367858189"
      ],
      "text/markdown": [
       "-0.0225806367858189"
      ],
      "text/plain": [
       "[1] -0.02258064"
      ]
     },
     "metadata": {},
     "output_type": "display_data"
    },
    {
     "data": {
      "text/html": [
       "-0.00333334248196099"
      ],
      "text/latex": [
       "-0.00333334248196099"
      ],
      "text/markdown": [
       "-0.00333334248196099"
      ],
      "text/plain": [
       "[1] -0.003333342"
      ]
     },
     "metadata": {},
     "output_type": "display_data"
    },
    {
     "data": {
      "text/html": [
       "-0.0267329817018298"
      ],
      "text/latex": [
       "-0.0267329817018298"
      ],
      "text/markdown": [
       "-0.0267329817018298"
      ],
      "text/plain": [
       "[1] -0.02673298"
      ]
     },
     "metadata": {},
     "output_type": "display_data"
    },
    {
     "data": {
      "text/html": [
       "-0.03375"
      ],
      "text/latex": [
       "-0.03375"
      ],
      "text/markdown": [
       "-0.03375"
      ],
      "text/plain": [
       "[1] -0.03375"
      ]
     },
     "metadata": {},
     "output_type": "display_data"
    }
   ],
   "source": [
    "dim.civic <- mean(control.subset$outcome_voted) - mean(civic.subset$outcome_voted) \n",
    "dim.civic\n",
    "\n",
    "dim.hawthorne <- mean(control.subset$outcome_voted) - mean(hawthorne.subset$outcome_voted) \n",
    "dim.hawthorne\n",
    "\n",
    "dim.self <- mean(control.subset$outcome_voted) - mean(self.subset$outcome_voted) \n",
    "dim.self\n",
    "\n",
    "dim.neighbor <- mean(control.subset$outcome_voted) - mean(neighbor.subset$outcome_voted) \n",
    "dim.neighbor\n",
    "\n",
    "dim.control.civic <- mean(control.subset$outcome_voted) - mean(civic.subset$outcome_voted) \n",
    "dim.control.civic\n",
    "\n",
    "dim.civic.hawthorne <- mean(civic.subset$outcome_voted) - mean(hawthorne.subset$outcome_voted) \n",
    "dim.civic.hawthorne\n",
    "\n",
    "dim.hawthorne.self <- mean(hawthorne.subset$outcome_voted) - mean(self.subset$outcome_voted)\n",
    "dim.hawthorne.self\n",
    "\n",
    "dim.self.neighbor <- mean(self.subset$outcome_voted) - mean(neighbor.subset$outcome_voted)\n",
    "dim.self.neighbor"
   ]
  },
  {
   "cell_type": "markdown",
   "id": "68c04ad1-39e9-47d7-82d2-d3b9563f58aa",
   "metadata": {},
   "source": [
    "## What do the results indicate here? Interpret the numbers you are seeing."
   ]
  }
 ],
 "metadata": {
  "kernelspec": {
   "display_name": "R",
   "language": "R",
   "name": "ir"
  },
  "language_info": {
   "codemirror_mode": "r",
   "file_extension": ".r",
   "mimetype": "text/x-r-source",
   "name": "R",
   "pygments_lexer": "r",
   "version": "4.3.2"
  }
 },
 "nbformat": 4,
 "nbformat_minor": 5
}
