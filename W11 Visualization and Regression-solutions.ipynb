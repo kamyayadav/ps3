{
 "cells": [
  {
   "cell_type": "markdown",
   "id": "ef38caef-7e9d-4699-a8fe-7169784f4b7d",
   "metadata": {},
   "source": [
    "# Week 11: Data Visualization and Bivariate Regression (Solutions)\n",
    "\n",
    "This week we will focus on visualizing relationships between two variables and then running regressions to see those relationships in numbers. Learning how to visualize data well is a very important skill - more often than not, you will present data analysis results to lay audiences who do not have the expertise to interpret numbers the way you do and plots are the best way to convey important results. \n",
    "\n",
    "The package we use in R to create plots is called `ggplot2` and it is a versatile package for making many different types of plots. The one we focus on is called a scatterplot and we add lines of best fit to it. You have already seen other types of plots in previous lectures that can also be created in `ggplot` such as histograms. "
   ]
  },
  {
   "cell_type": "code",
   "execution_count": null,
   "id": "0048802f-f545-487c-ab5c-10584f3b6384",
   "metadata": {},
   "outputs": [],
   "source": [
    "#load the following library and data set \n",
    "\n",
    "library(ggplot2)\n",
    "\n",
    "data = read.csv(\"ps3_w11.csv\")\n",
    "head(data)"
   ]
  },
  {
   "cell_type": "markdown",
   "id": "dbf9b8e7-ff1e-4be5-a0b4-9fec842b32e7",
   "metadata": {},
   "source": [
    "Here is a quick rundown of what each column means:\n",
    "\n",
    "- `state`: State (e.g., for CA-13, \"CA\")\n",
    "- `district`: District number (e.g., for CA-13, 13)\n",
    "- `name_dem_cand`: Democrat candidate name in the 2020 US House elections\n",
    "- `name_rep_cand`: Republican candidate name in the 2020 US House elections\n",
    "- `dem_us_house_percent_2020`: Democrat candidate's vote share in 2020 election (percent)\n",
    "- `dem_us_house_percent_2018`: Democrat candidate's vote share in 2018 election (percent)\n",
    "- `dem_won_ushouse_2018`: A Democrat won the US House election in 2018, and so is running for re-election in 2020 (0 = lost, 1 = won)\n",
    "- `clinton_percent_2016`: Clinton vote share in 2016 in the district (percent)\n",
    "- `spending_dem_ushouse_2020`: Democratic US House candidate's spending in 2020, in millions of dollars \n",
    "- `spending_rep_ushouse_2020`: Republican US House candidate's spending in 2020, in millions of dollars "
   ]
  },
  {
   "cell_type": "markdown",
   "id": "1ca8d2f5-81ff-4688-bcb6-09f765058bf5",
   "metadata": {},
   "source": [
    "First, create a scatterplot to show the relationship between how much a Democratic candidate spent in 2020 (`spending_dem_ushouse_2020`) and their vote share in 2020 (`dem_us_house_percent_2020`). "
   ]
  },
  {
   "cell_type": "code",
   "execution_count": null,
   "id": "def4a4a9-3132-4e2f-9ed2-b23ed5aed48e",
   "metadata": {},
   "outputs": [],
   "source": [
    "qplot(data = data, x = spending_dem_ushouse_2020, y = dem_us_house_percent_2020)"
   ]
  },
  {
   "cell_type": "markdown",
   "id": "f9f76ad6-465b-4ad2-b641-186f857ccf6f",
   "metadata": {},
   "source": [
    "Now on this plot, add a line of best fit that shows the relationship between the two variables."
   ]
  },
  {
   "cell_type": "code",
   "execution_count": null,
   "id": "38e791ee-9caa-4364-a438-2f2ec6c2ed3a",
   "metadata": {},
   "outputs": [],
   "source": [
    "qplot(data = data, x = spending_dem_ushouse_2020, y = dem_us_house_percent_2020) + geom_smooth(method = \"lm\") + \n",
    "#you don't need to know these lines of code below but I am showing you ways to make your plots prettier!\n",
    "theme_bw() + \n",
    "labs(title = \"Relationship between Democrats Election Expenditure and Vote Share in 2020\", \n",
    "     x = \"Democrats Expenditure\", \n",
    "     y = \"Democrats Vote Share\")"
   ]
  },
  {
   "cell_type": "markdown",
   "id": "61fab1dc-c4a3-4194-abef-54fd9e4ddfa1",
   "metadata": {},
   "source": [
    "What is your plot telling you? Provide a brief interpretation of what you see visually in this plot."
   ]
  },
  {
   "cell_type": "markdown",
   "id": "aa24df12-1aa6-4a78-a777-2d8e94fdffd2",
   "metadata": {},
   "source": [
    "It appears that there is a positive relationship between how much the Democratic candidate spent during the 2020 election and their vote share in the 2020 election."
   ]
  },
  {
   "cell_type": "markdown",
   "id": "dfb64dc6-c020-4db2-a505-bf73c6025c8b",
   "metadata": {},
   "source": [
    "Now let's see what we get if we run a regression with a Democratic candidate's vote share in 2020 as the outcome and the Democratic candidate's expenditure in 2020 as the predictor."
   ]
  },
  {
   "cell_type": "code",
   "execution_count": null,
   "id": "3aa997ef-0e42-49fe-81fb-12adab79e365",
   "metadata": {},
   "outputs": [],
   "source": [
    "summary(lm(data = data, formula = dem_us_house_percent_2020 ~ spending_dem_ushouse_2020)) "
   ]
  },
  {
   "cell_type": "markdown",
   "id": "9c3b73bb-fd75-4ef9-a6c4-97c062b3c065",
   "metadata": {},
   "source": [
    "We got an estimate of $1.0491$. How do we interpret this number? Remember, this is not a causal relationship, just an association. "
   ]
  },
  {
   "cell_type": "markdown",
   "id": "3b5fa3a8-6a32-453e-92a6-5e3acbde6556",
   "metadata": {},
   "source": [
    "A $1 million dollar increase in the Democratic candidate's expenditure during the 2020 election was associated with a 1.04 percent increase in their vote share. "
   ]
  },
  {
   "cell_type": "markdown",
   "id": "438f3129-9f67-4f18-a879-70fa30ca3093",
   "metadata": {},
   "source": [
    "If I asked you to predict the increase in the Democratic candidate's vote share if they spent $9.8 million dollars, how would you get that number? Remember the formula for a line is y = mx + b, where m is the slope and b is the Y-intercept."
   ]
  },
  {
   "cell_type": "code",
   "execution_count": null,
   "id": "c8d09ad0-8fa7-4c41-9260-b40578b97261",
   "metadata": {},
   "outputs": [],
   "source": [
    "pred.vote.share <- 47.1213 + 1.0491 * 9.8\n",
    "pred.vote.share"
   ]
  },
  {
   "cell_type": "markdown",
   "id": "20ae6dbe-4413-4978-86cf-4b220a8c2b49",
   "metadata": {},
   "source": [
    "What about if they spent $45 million dollars? Would this be a reasonable outcome to predict? Why? "
   ]
  },
  {
   "cell_type": "code",
   "execution_count": null,
   "id": "6c1abdf1-cca3-448c-84de-05279521a454",
   "metadata": {},
   "outputs": [],
   "source": [
    "extrap.vote.share <- 47.1213 + 1.0491 * 45\n",
    "extrap.vote.share"
   ]
  },
  {
   "cell_type": "markdown",
   "id": "5c697619-6a19-4794-a6d3-370453479f96",
   "metadata": {},
   "source": [
    "This would not be a reasonable outcome to predict because we see there is no data on a Democratic candidate's vote share for spending $45 million dollars. We would be extrapolating out of our data, which is generally not good practice."
   ]
  }
 ],
 "metadata": {
  "kernelspec": {
   "display_name": "R",
   "language": "R",
   "name": "ir"
  },
  "language_info": {
   "codemirror_mode": "r",
   "file_extension": ".r",
   "mimetype": "text/x-r-source",
   "name": "R",
   "pygments_lexer": "r",
   "version": "4.3.2"
  }
 },
 "nbformat": 4,
 "nbformat_minor": 5
}
