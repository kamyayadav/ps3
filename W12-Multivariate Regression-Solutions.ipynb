{
 "cells": [
  {
   "cell_type": "markdown",
   "id": "b8ed2166-1f52-4f5c-9b71-a6cca6597a98",
   "metadata": {},
   "source": [
    "# W12: Multivariate Regression (Solutions)\n",
    "\n",
    "This week we will focus on two uses of multivariate regression: observational analysis and experimental analysis. We will use a dataset from a study I recently conducted on peer-to-peer correction of online misinformation (Yadav and Xu, working paper). \n",
    "\n",
    "The study looked at whether we can use social norm nudges to increase peer to peer correction of online misinformation. There were two types of nudges used - one that emphasized the acceptability of correction and one that emphasized the user responsibility of correction. In the experiment, respondents were assigned to one of three treatment conditions: a control with no nudge, an acceptability nudge, or a responsibility nudge. These nudges were embedded on social media posts that had misinformation about climate change or microwaving a penny. We additionally collected covariates on gender, age, race, etc. \n",
    "\n",
    "We will use a reduced set of covariates from the experimental data. Some details about these covariates are included below: \n",
    "- `age`: Age of the respondent (numeric variable)\n",
    "- `gender`: Gender of the respondent (Male, Female)\n",
    "- `employment`: 1 if the respondent is employed and 0 if they are not (binary variable)\n",
    "- `marital_status`: 1 if the respondent is married and 0 if not (binary variable)\n",
    "- `treatment`: the variable for which treatment condition the respondent was assigned to\n",
    "    - \"control\": assigned to social media posts that have no nudges\n",
    "    - \"acceptability\": assigned to social media posts that have the acceptability nudge\n",
    "    - \"responsibility\": assigned to social media posts that have the responsibility nudge\n",
    "- `correction`: the outcome variable that is 1 if the respondent corrected at least one of the social media posts and 0 if they corrected neither.\n"
   ]
  },
  {
   "cell_type": "code",
   "execution_count": 9,
   "id": "215e589a-8933-4de1-b9f6-8acadacd8da1",
   "metadata": {},
   "outputs": [
    {
     "data": {
      "text/html": [
       "<table class=\"dataframe\">\n",
       "<caption>A data.frame: 6 × 7</caption>\n",
       "<thead>\n",
       "\t<tr><th></th><th scope=col>X</th><th scope=col>age</th><th scope=col>gender</th><th scope=col>employment</th><th scope=col>marital_status</th><th scope=col>treatment</th><th scope=col>correction</th></tr>\n",
       "\t<tr><th></th><th scope=col>&lt;int&gt;</th><th scope=col>&lt;int&gt;</th><th scope=col>&lt;chr&gt;</th><th scope=col>&lt;int&gt;</th><th scope=col>&lt;int&gt;</th><th scope=col>&lt;chr&gt;</th><th scope=col>&lt;int&gt;</th></tr>\n",
       "</thead>\n",
       "<tbody>\n",
       "\t<tr><th scope=row>1</th><td>1</td><td>40</td><td>Male  </td><td>1</td><td>0</td><td>acceptability</td><td>0</td></tr>\n",
       "\t<tr><th scope=row>2</th><td>2</td><td>79</td><td>Male  </td><td>0</td><td>1</td><td>acceptability</td><td>1</td></tr>\n",
       "\t<tr><th scope=row>3</th><td>3</td><td>36</td><td>Female</td><td>1</td><td>0</td><td>control      </td><td>1</td></tr>\n",
       "\t<tr><th scope=row>4</th><td>4</td><td>22</td><td>Female</td><td>1</td><td>0</td><td>acceptability</td><td>0</td></tr>\n",
       "\t<tr><th scope=row>5</th><td>5</td><td>34</td><td>Female</td><td>1</td><td>0</td><td>acceptability</td><td>0</td></tr>\n",
       "\t<tr><th scope=row>6</th><td>6</td><td>71</td><td>Female</td><td>0</td><td>0</td><td>acceptability</td><td>1</td></tr>\n",
       "</tbody>\n",
       "</table>\n"
      ],
      "text/latex": [
       "A data.frame: 6 × 7\n",
       "\\begin{tabular}{r|lllllll}\n",
       "  & X & age & gender & employment & marital\\_status & treatment & correction\\\\\n",
       "  & <int> & <int> & <chr> & <int> & <int> & <chr> & <int>\\\\\n",
       "\\hline\n",
       "\t1 & 1 & 40 & Male   & 1 & 0 & acceptability & 0\\\\\n",
       "\t2 & 2 & 79 & Male   & 0 & 1 & acceptability & 1\\\\\n",
       "\t3 & 3 & 36 & Female & 1 & 0 & control       & 1\\\\\n",
       "\t4 & 4 & 22 & Female & 1 & 0 & acceptability & 0\\\\\n",
       "\t5 & 5 & 34 & Female & 1 & 0 & acceptability & 0\\\\\n",
       "\t6 & 6 & 71 & Female & 0 & 0 & acceptability & 1\\\\\n",
       "\\end{tabular}\n"
      ],
      "text/markdown": [
       "\n",
       "A data.frame: 6 × 7\n",
       "\n",
       "| <!--/--> | X &lt;int&gt; | age &lt;int&gt; | gender &lt;chr&gt; | employment &lt;int&gt; | marital_status &lt;int&gt; | treatment &lt;chr&gt; | correction &lt;int&gt; |\n",
       "|---|---|---|---|---|---|---|---|\n",
       "| 1 | 1 | 40 | Male   | 1 | 0 | acceptability | 0 |\n",
       "| 2 | 2 | 79 | Male   | 0 | 1 | acceptability | 1 |\n",
       "| 3 | 3 | 36 | Female | 1 | 0 | control       | 1 |\n",
       "| 4 | 4 | 22 | Female | 1 | 0 | acceptability | 0 |\n",
       "| 5 | 5 | 34 | Female | 1 | 0 | acceptability | 0 |\n",
       "| 6 | 6 | 71 | Female | 0 | 0 | acceptability | 1 |\n",
       "\n"
      ],
      "text/plain": [
       "  X age gender employment marital_status treatment     correction\n",
       "1 1 40  Male   1          0              acceptability 0         \n",
       "2 2 79  Male   0          1              acceptability 1         \n",
       "3 3 36  Female 1          0              control       1         \n",
       "4 4 22  Female 1          0              acceptability 0         \n",
       "5 5 34  Female 1          0              acceptability 0         \n",
       "6 6 71  Female 0          0              acceptability 1         "
      ]
     },
     "metadata": {},
     "output_type": "display_data"
    }
   ],
   "source": [
    "#load library and data \n",
    "library(estimatr)\n",
    "\n",
    "data <- read.csv(\"ps3_w12.csv\")\n",
    "head(data)"
   ]
  },
  {
   "cell_type": "markdown",
   "id": "b2dd6e49-1a99-49e7-ae0c-9d8ff26e9106",
   "metadata": {},
   "source": [
    "## Observational Analysis \n",
    "\n",
    "First, run a multivariate regression to test the association between age, gender, and correction of misinformation. This means you regress `correction` (outcome) on `age` and `gender` (predictors). Then answer the following questions: \n",
    "\n",
    "- What is the baseline condition for `gender`?\n",
    "- How do we interpret the coefficients for gender and age?\n",
    "- Are these relationships causal?\n",
    "- Could there be other omitted variables we have not included here that would affect someone's likelihood of correcting misinformation? "
   ]
  },
  {
   "cell_type": "code",
   "execution_count": 10,
   "id": "514a4244-d1f7-4530-9ca6-ff782fdd45fd",
   "metadata": {},
   "outputs": [
    {
     "data": {
      "text/plain": [
       "\n",
       "Call:\n",
       "lm(formula = correction ~ gender + age, data = data)\n",
       "\n",
       "Residuals:\n",
       "    Min      1Q  Median      3Q     Max \n",
       "-0.5301 -0.4795 -0.4342  0.5153  0.5862 \n",
       "\n",
       "Coefficients:\n",
       "              Estimate Std. Error t value Pr(>|t|)    \n",
       "(Intercept)  0.5499910  0.0392802  14.002   <2e-16 ***\n",
       "genderMale   0.0082930  0.0258420   0.321    0.748    \n",
       "age         -0.0015653  0.0007537  -2.077    0.038 *  \n",
       "---\n",
       "Signif. codes:  0 ‘***’ 0.001 ‘**’ 0.01 ‘*’ 0.05 ‘.’ 0.1 ‘ ’ 1\n",
       "\n",
       "Residual standard error: 0.4993 on 1507 degrees of freedom\n",
       "Multiple R-squared:  0.002862,\tAdjusted R-squared:  0.001538 \n",
       "F-statistic: 2.162 on 2 and 1507 DF,  p-value: 0.1154\n"
      ]
     },
     "metadata": {},
     "output_type": "display_data"
    }
   ],
   "source": [
    "summary(lm(data = data, formula = correction ~ gender + age))"
   ]
  },
  {
   "cell_type": "markdown",
   "id": "42394551-fd1b-47b4-b61f-ee24cbe9b8cc",
   "metadata": {},
   "source": [
    "## Experimental Analysis \n",
    "\n",
    "First, run a bivariate regression, regressing `correction` (outcome) on `treatment`. \n",
    "\n",
    "- What is the baseline condition for `treatment`?\n",
    "- How do you interpret the coefficients in your regression? "
   ]
  },
  {
   "cell_type": "code",
   "execution_count": 12,
   "id": "23d179a6-bb42-49b7-b2c5-efaba6413fcf",
   "metadata": {},
   "outputs": [],
   "source": [
    "#ignore this cell of code but make sure you run it\n",
    "library(tidyverse)\n",
    "\n",
    "data <- data %>% mutate(treatment=factor(treatment)) %>% \n",
    "  mutate(treatment=fct_relevel(treatment,c(\"control\",\"acceptability\",\"responsibility\"))) %>%\n",
    " arrange(treatment)"
   ]
  },
  {
   "cell_type": "code",
   "execution_count": 13,
   "id": "50a60922-e76d-4b93-92cd-75f4115a432e",
   "metadata": {},
   "outputs": [
    {
     "data": {
      "text/plain": [
       "\n",
       "Call:\n",
       "lm(formula = correction ~ treatment, data = data)\n",
       "\n",
       "Residuals:\n",
       "    Min      1Q  Median      3Q     Max \n",
       "-0.5029 -0.4818 -0.4503  0.5182  0.5497 \n",
       "\n",
       "Coefficients:\n",
       "                        Estimate Std. Error t value Pr(>|t|)    \n",
       "(Intercept)              0.48178    0.02248  21.434   <2e-16 ***\n",
       "treatmentacceptability   0.02109    0.03134   0.673    0.501    \n",
       "treatmentresponsibility -0.03148    0.03180  -0.990    0.322    \n",
       "---\n",
       "Signif. codes:  0 ‘***’ 0.001 ‘**’ 0.01 ‘*’ 0.05 ‘.’ 0.1 ‘ ’ 1\n",
       "\n",
       "Residual standard error: 0.4996 on 1507 degrees of freedom\n",
       "Multiple R-squared:  0.001878,\tAdjusted R-squared:  0.0005533 \n",
       "F-statistic: 1.418 on 2 and 1507 DF,  p-value: 0.2426\n"
      ]
     },
     "metadata": {},
     "output_type": "display_data"
    }
   ],
   "source": [
    "summary(lm(data = data, formula = correction ~ treatment))"
   ]
  },
  {
   "cell_type": "markdown",
   "id": "2167e8cc-58e0-4861-9465-54d6f977c7d1",
   "metadata": {},
   "source": [
    "Now, confirm regression results by calculating difference in means in outcome (`correction`) between (1) control and acceptability conditions, and (2) control and responsibility conditions."
   ]
  },
  {
   "cell_type": "code",
   "execution_count": 8,
   "id": "e96b6935-82d6-4426-906e-263cb7a3df33",
   "metadata": {},
   "outputs": [
    {
     "data": {
      "text/plain": [
       "Design:  Standard \n",
       "                         Estimate Std. Error   t value  Pr(>|t|)    CI Lower\n",
       "treatmentacceptability 0.02108669 0.03139009 0.6717628 0.5018881 -0.04051043\n",
       "                         CI Upper       DF\n",
       "treatmentacceptability 0.08268382 1011.768"
      ]
     },
     "metadata": {},
     "output_type": "display_data"
    },
    {
     "data": {
      "text/plain": [
       "Design:  Standard \n",
       "                           Estimate Std. Error    t value  Pr(>|t|)    CI Lower\n",
       "treatmentresponsibility -0.03147712 0.03177321 -0.9906812 0.3220846 -0.09382807\n",
       "                          CI Upper       DF\n",
       "treatmentresponsibility 0.03087384 984.9949"
      ]
     },
     "metadata": {},
     "output_type": "display_data"
    }
   ],
   "source": [
    "#compare control to acceptability\n",
    "difference_in_means(correction ~ treatment, data = data, condition1 = \"control\", condition2 = \"acceptability\")\n",
    "\n",
    "#compare control to responsibility \n",
    "difference_in_means(correction ~ treatment, data = data, condition1 = \"control\", condition2 = \"responsibility\")"
   ]
  },
  {
   "cell_type": "markdown",
   "id": "c9310c83-20e4-4e3e-aa6c-d8dbb85122f7",
   "metadata": {},
   "source": [
    "Now, let's add some covariates to our previous regression. These covariates must be pre-treatment, that is they are unaffected by treatment. Add covariates for gender, age, and employment to your regression. \n",
    "\n",
    "- Which coefficients are causal and which are not?\n",
    "- How would you interpret the estimate for acceptability now?\n",
    "- Are any of the variables predictive of the outcome?\n",
    "- Why did we include these covariates in the regression?\n",
    "- Did including covariates reduce the standard error of our treatment coefficients?"
   ]
  },
  {
   "cell_type": "code",
   "execution_count": 14,
   "id": "8dee2020-7f05-4cee-8934-acf8ae8ec227",
   "metadata": {},
   "outputs": [
    {
     "data": {
      "text/plain": [
       "\n",
       "Call:\n",
       "lm(formula = correction ~ treatment + gender + age + employment, \n",
       "    data = data)\n",
       "\n",
       "Residuals:\n",
       "    Min      1Q  Median      3Q     Max \n",
       "-0.5678 -0.4797 -0.4158  0.5161  0.6198 \n",
       "\n",
       "Coefficients:\n",
       "                          Estimate Std. Error t value Pr(>|t|)    \n",
       "(Intercept)              0.5660240  0.0492606  11.490   <2e-16 ***\n",
       "treatmentacceptability   0.0217648  0.0313490   0.694    0.488    \n",
       "treatmentresponsibility -0.0305093  0.0318404  -0.958    0.338    \n",
       "genderMale               0.0104397  0.0260816   0.400    0.689    \n",
       "age                     -0.0016905  0.0007874  -2.147    0.032 *  \n",
       "employment              -0.0167245  0.0270330  -0.619    0.536    \n",
       "---\n",
       "Signif. codes:  0 ‘***’ 0.001 ‘**’ 0.01 ‘*’ 0.05 ‘.’ 0.1 ‘ ’ 1\n",
       "\n",
       "Residual standard error: 0.4993 on 1504 degrees of freedom\n",
       "Multiple R-squared:  0.004936,\tAdjusted R-squared:  0.001628 \n",
       "F-statistic: 1.492 on 5 and 1504 DF,  p-value: 0.1893\n"
      ]
     },
     "metadata": {},
     "output_type": "display_data"
    }
   ],
   "source": [
    "summary(lm(data = data, formula = correction ~ treatment + gender + age + employment))"
   ]
  }
 ],
 "metadata": {
  "kernelspec": {
   "display_name": "R",
   "language": "R",
   "name": "ir"
  },
  "language_info": {
   "codemirror_mode": "r",
   "file_extension": ".r",
   "mimetype": "text/x-r-source",
   "name": "R",
   "pygments_lexer": "r",
   "version": "4.3.2"
  }
 },
 "nbformat": 4,
 "nbformat_minor": 5
}
