{
 "cells": [
  {
   "cell_type": "markdown",
   "id": "b06c0476-55d9-49cb-b56b-dd6787e3106c",
   "metadata": {},
   "source": [
    "# Week 3: Subsets and Tables "
   ]
  },
  {
   "cell_type": "markdown",
   "id": "2fd38bd9-5d1b-46c4-9653-294489571108",
   "metadata": {},
   "source": [
    "This week we will focus on subsetting data and analyzing categorical data through one-way and two-way tables."
   ]
  },
  {
   "cell_type": "markdown",
   "id": "3d2ad8b3-b33d-4ce7-968d-01b3a3550125",
   "metadata": {},
   "source": [
    "## First, let's load in the Polity-2 data from Monday's lecture. "
   ]
  },
  {
   "cell_type": "code",
   "execution_count": 10,
   "id": "3e94c222-b847-440e-9953-70766e0f65db",
   "metadata": {},
   "outputs": [
    {
     "data": {
      "text/html": [
       "<table class=\"dataframe\">\n",
       "<caption>A data.frame: 6 × 9</caption>\n",
       "<thead>\n",
       "\t<tr><th></th><th scope=col>countryname</th><th scope=col>polity2</th><th scope=col>polity2_cat</th><th scope=col>gdpcapita</th><th scope=col>gdpcapita_cat</th><th scope=col>happiness</th><th scope=col>happiness_cat</th><th scope=col>life_expectancy</th><th scope=col>life_expectancy_cat</th></tr>\n",
       "\t<tr><th></th><th scope=col>&lt;chr&gt;</th><th scope=col>&lt;int&gt;</th><th scope=col>&lt;chr&gt;</th><th scope=col>&lt;dbl&gt;</th><th scope=col>&lt;chr&gt;</th><th scope=col>&lt;dbl&gt;</th><th scope=col>&lt;chr&gt;</th><th scope=col>&lt;dbl&gt;</th><th scope=col>&lt;chr&gt;</th></tr>\n",
       "</thead>\n",
       "<tbody>\n",
       "\t<tr><th scope=row>1</th><td>Afghanistan</td><td>-1</td><td>anocracies </td><td> 2190.751</td><td>low-income   </td><td>2.694</td><td>least happy     </td><td>52.6</td><td>shortest lives</td></tr>\n",
       "\t<tr><th scope=row>2</th><td>Albania    </td><td> 9</td><td>democracies</td><td>13602.374</td><td>middle-income</td><td>5.004</td><td>middle happiness</td><td>68.7</td><td>middle        </td></tr>\n",
       "\t<tr><th scope=row>3</th><td>Algeria    </td><td> 2</td><td>anocracies </td><td>11475.844</td><td>middle-income</td><td>5.043</td><td>middle happiness</td><td>65.9</td><td>middle        </td></tr>\n",
       "\t<tr><th scope=row>4</th><td>Argentina  </td><td> 9</td><td>democracies</td><td>22742.701</td><td>middle-income</td><td>5.793</td><td>middle happiness</td><td>68.8</td><td>middle        </td></tr>\n",
       "\t<tr><th scope=row>5</th><td>Armenia    </td><td> 7</td><td>democracies</td><td>12720.883</td><td>middle-income</td><td>5.062</td><td>middle happiness</td><td>66.9</td><td>middle        </td></tr>\n",
       "\t<tr><th scope=row>6</th><td>Australia  </td><td>10</td><td>democracies</td><td>49563.000</td><td>rich         </td><td>7.177</td><td>most happy      </td><td>73.6</td><td>longest lives </td></tr>\n",
       "</tbody>\n",
       "</table>\n"
      ],
      "text/latex": [
       "A data.frame: 6 × 9\n",
       "\\begin{tabular}{r|lllllllll}\n",
       "  & countryname & polity2 & polity2\\_cat & gdpcapita & gdpcapita\\_cat & happiness & happiness\\_cat & life\\_expectancy & life\\_expectancy\\_cat\\\\\n",
       "  & <chr> & <int> & <chr> & <dbl> & <chr> & <dbl> & <chr> & <dbl> & <chr>\\\\\n",
       "\\hline\n",
       "\t1 & Afghanistan & -1 & anocracies  &  2190.751 & low-income    & 2.694 & least happy      & 52.6 & shortest lives\\\\\n",
       "\t2 & Albania     &  9 & democracies & 13602.374 & middle-income & 5.004 & middle happiness & 68.7 & middle        \\\\\n",
       "\t3 & Algeria     &  2 & anocracies  & 11475.844 & middle-income & 5.043 & middle happiness & 65.9 & middle        \\\\\n",
       "\t4 & Argentina   &  9 & democracies & 22742.701 & middle-income & 5.793 & middle happiness & 68.8 & middle        \\\\\n",
       "\t5 & Armenia     &  7 & democracies & 12720.883 & middle-income & 5.062 & middle happiness & 66.9 & middle        \\\\\n",
       "\t6 & Australia   & 10 & democracies & 49563.000 & rich          & 7.177 & most happy       & 73.6 & longest lives \\\\\n",
       "\\end{tabular}\n"
      ],
      "text/markdown": [
       "\n",
       "A data.frame: 6 × 9\n",
       "\n",
       "| <!--/--> | countryname &lt;chr&gt; | polity2 &lt;int&gt; | polity2_cat &lt;chr&gt; | gdpcapita &lt;dbl&gt; | gdpcapita_cat &lt;chr&gt; | happiness &lt;dbl&gt; | happiness_cat &lt;chr&gt; | life_expectancy &lt;dbl&gt; | life_expectancy_cat &lt;chr&gt; |\n",
       "|---|---|---|---|---|---|---|---|---|---|\n",
       "| 1 | Afghanistan | -1 | anocracies  |  2190.751 | low-income    | 2.694 | least happy      | 52.6 | shortest lives |\n",
       "| 2 | Albania     |  9 | democracies | 13602.374 | middle-income | 5.004 | middle happiness | 68.7 | middle         |\n",
       "| 3 | Algeria     |  2 | anocracies  | 11475.844 | middle-income | 5.043 | middle happiness | 65.9 | middle         |\n",
       "| 4 | Argentina   |  9 | democracies | 22742.701 | middle-income | 5.793 | middle happiness | 68.8 | middle         |\n",
       "| 5 | Armenia     |  7 | democracies | 12720.883 | middle-income | 5.062 | middle happiness | 66.9 | middle         |\n",
       "| 6 | Australia   | 10 | democracies | 49563.000 | rich          | 7.177 | most happy       | 73.6 | longest lives  |\n",
       "\n"
      ],
      "text/plain": [
       "  countryname polity2 polity2_cat gdpcapita gdpcapita_cat happiness\n",
       "1 Afghanistan -1      anocracies   2190.751 low-income    2.694    \n",
       "2 Albania      9      democracies 13602.374 middle-income 5.004    \n",
       "3 Algeria      2      anocracies  11475.844 middle-income 5.043    \n",
       "4 Argentina    9      democracies 22742.701 middle-income 5.793    \n",
       "5 Armenia      7      democracies 12720.883 middle-income 5.062    \n",
       "6 Australia   10      democracies 49563.000 rich          7.177    \n",
       "  happiness_cat    life_expectancy life_expectancy_cat\n",
       "1 least happy      52.6            shortest lives     \n",
       "2 middle happiness 68.7            middle             \n",
       "3 middle happiness 65.9            middle             \n",
       "4 middle happiness 68.8            middle             \n",
       "5 middle happiness 66.9            middle             \n",
       "6 most happy       73.6            longest lives      "
      ]
     },
     "metadata": {},
     "output_type": "display_data"
    }
   ],
   "source": [
    "# read in polity-2 data\n",
    "polity2 <- read.csv('happiness_polity_2018.csv')\n",
    "head(polity2)"
   ]
  },
  {
   "cell_type": "markdown",
   "id": "0b125755-7b8e-48ed-aae4-be9c91d25cf6",
   "metadata": {},
   "source": [
    "We can see that our dataset has nine columns. \n",
    "\n",
    "## Let's subset our data only to those countries whose GDP per capita falls in the 'low-income' category. "
   ]
  },
  {
   "cell_type": "code",
   "execution_count": 11,
   "id": "9d2313f5-026b-44f0-9c0e-b1815470f25a",
   "metadata": {},
   "outputs": [
    {
     "data": {
      "text/plain": [
       "NULL"
      ]
     },
     "metadata": {},
     "output_type": "display_data"
    }
   ],
   "source": [
    "# create a subset of the data \n",
    "polity2.low.income <- NULL # your code here \n",
    "head(polity2.low.income)"
   ]
  },
  {
   "cell_type": "markdown",
   "id": "8cba2b8c-500e-4790-879e-0beac4dc9e89",
   "metadata": {},
   "source": [
    "## Categorical vs continuous variables\n",
    "\n",
    "What if we want to know, among low income countries, how many belong to each happiness category? We see that happiness has been coded in two different ways here: as a continuous variable and as a categorical variable. \n",
    "\n",
    "What is the difference between those two types of variables? "
   ]
  },
  {
   "cell_type": "code",
   "execution_count": 12,
   "id": "6e4482d9-107c-4f42-b7ed-e1dea3a5471f",
   "metadata": {},
   "outputs": [
    {
     "data": {
      "text/plain": [
       "NULL"
      ]
     },
     "metadata": {},
     "output_type": "display_data"
    }
   ],
   "source": [
    "# create a one-way table that tells us how many low-income countries belong to each happiness category\n",
    "low.income.happiness.cat <- NULL # your code here\n",
    "low.income.happiness.cat"
   ]
  },
  {
   "cell_type": "markdown",
   "id": "c63305f8-3951-4a3e-90ff-8422327ddacd",
   "metadata": {},
   "source": [
    "## Practicing functions\n",
    "\n",
    "Let's try a different example and test the functions we have learnt so far in class. Write code in the following code chunk to answer: \n",
    "\n",
    "1. What is the average happiness score in the world?\n",
    "2. What is the average life expectancy among democracies?\n",
    "3. Among countries with high life expectancy ('longest lives'), how many belong to each polity 2 category? "
   ]
  },
  {
   "cell_type": "code",
   "execution_count": 13,
   "id": "dcb00778-86e7-49e9-98fb-279d1b67dd06",
   "metadata": {},
   "outputs": [
    {
     "data": {
      "text/plain": [
       "NULL"
      ]
     },
     "metadata": {},
     "output_type": "display_data"
    },
    {
     "data": {
      "text/plain": [
       "NULL"
      ]
     },
     "metadata": {},
     "output_type": "display_data"
    },
    {
     "data": {
      "text/plain": [
       "NULL"
      ]
     },
     "metadata": {},
     "output_type": "display_data"
    }
   ],
   "source": [
    "# average happiness score in the world\n",
    "avg.happiness.score <- NULL # your code here\n",
    "avg.happiness.score \n",
    "\n",
    "# average life expectancy among democracies\n",
    "avg.life.exp.dem <- NULL # your code here \n",
    "avg.life.exp.dem\n",
    "\n",
    "# number of long life expectancy countries in each polity 2 category \n",
    "table.polity2.long.life.exp <- NULL # your code here\n",
    "table.polity2.long.life.exp"
   ]
  },
  {
   "cell_type": "markdown",
   "id": "b815fa6d-4082-47e8-a8b5-81c71531c321",
   "metadata": {},
   "source": [
    "## Two Way Tables \n",
    "\n",
    "As we saw in lecture and earlier during section, scientific production of knowledge is an iterative process of coming up with a theory, some hypotheses to test observable implications of this theory, empirically testing those hypotheses, revising the theory, and producing knowledge. \n",
    "\n",
    "One way that two-way tables can be helpful is to preliminarily test theories (note of caution: correlation is not causation, as we see in Wednesday's lecture). \n",
    "\n",
    "Say we have a theory that democracies have a higher life expectancy. We could see what the two way relationship between government type and life expectancy looks like."
   ]
  },
  {
   "cell_type": "code",
   "execution_count": 14,
   "id": "c5d826a0-70a0-4722-92e6-6da0c5d5b0b2",
   "metadata": {},
   "outputs": [
    {
     "data": {
      "text/plain": [
       "NULL"
      ]
     },
     "metadata": {},
     "output_type": "display_data"
    }
   ],
   "source": [
    "# two way table for polity 2 category and life expectancy \n",
    "polity.cat.life.exp <- NULL # your code here\n",
    "polity.cat.life.exp"
   ]
  },
  {
   "cell_type": "markdown",
   "id": "2f81a549-c0b1-4ea1-b1b4-7a83f1d5d93d",
   "metadata": {},
   "source": [
    "## Review \n",
    "\n",
    "Today we covered: \n",
    "\n",
    "1. Subsetting datasets\n",
    "2. Calculating averages (for the entire dataset and for subsets)\n",
    "3. One-way vs two-way tables\n",
    "4. Preliminary look at theory vs hypotheses vs testing "
   ]
  }
 ],
 "metadata": {
  "kernelspec": {
   "display_name": "R",
   "language": "R",
   "name": "ir"
  },
  "language_info": {
   "codemirror_mode": "r",
   "file_extension": ".r",
   "mimetype": "text/x-r-source",
   "name": "R",
   "pygments_lexer": "r",
   "version": "4.3.2"
  }
 },
 "nbformat": 4,
 "nbformat_minor": 5
}
