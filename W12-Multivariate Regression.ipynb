{
 "cells": [
  {
   "cell_type": "markdown",
   "id": "b8ed2166-1f52-4f5c-9b71-a6cca6597a98",
   "metadata": {},
   "source": [
    "# W12: Multivariate Regression \n",
    "\n",
    "This week we will focus on two uses of multivariate regression: observational analysis and experimental analysis. We will use a dataset from a study I recently conducted on peer-to-peer correction of online misinformation (Yadav and Xu, working paper). \n",
    "\n",
    "The study looked at whether we can use social norm nudges to increase peer to peer correction of online misinformation. There were two types of nudges used - one that emphasized the acceptability of correction and one that emphasized the user responsibility of correction. In the experiment, respondents were assigned to one of three treatment conditions: a control with no nudge, an acceptability nudge, or a responsibility nudge. These nudges were embedded on social media posts that had misinformation about climate change or microwaving a penny. We additionally collected covariates on gender, age, race, etc. \n",
    "\n",
    "We will use a reduced set of covariates from the experimental data. Some details about these covariates are included below: \n",
    "- `age`: Age of the respondent (numeric variable)\n",
    "- `gender`: Gender of the respondent (Male, Female)\n",
    "- `employment`: 1 if the respondent is employed and 0 if they are not (binary variable)\n",
    "- `marital_status`: 1 if the respondent is married and 0 if not (binary variable)\n",
    "- `treatment`: the variable for which treatment condition the respondent was assigned to\n",
    "    - \"control\": assigned to social media posts that have no nudges\n",
    "    - \"acceptability\": assigned to social media posts that have the acceptability nudge\n",
    "    - \"responsibility\": assigned to social media posts that have the responsibility nudge\n",
    "- `correction`: the outcome variable that is 1 if the respondent corrected at least one of the social media posts and 0 if they corrected neither.\n"
   ]
  },
  {
   "cell_type": "code",
   "execution_count": null,
   "id": "215e589a-8933-4de1-b9f6-8acadacd8da1",
   "metadata": {},
   "outputs": [],
   "source": [
    "#load library and data \n",
    "library(estimatr)\n",
    "\n",
    "data <- read.csv(\"ps3_w12.csv\")\n",
    "head(data)"
   ]
  },
  {
   "cell_type": "markdown",
   "id": "b2dd6e49-1a99-49e7-ae0c-9d8ff26e9106",
   "metadata": {},
   "source": [
    "## Observational Analysis \n",
    "\n",
    "First, run a multivariate regression to test the association between age, gender, and correction of misinformation. This means you regress `correction` (outcome) on `age` and `gender` (predictors). Then answer the following questions: \n",
    "\n",
    "- What is the baseline condition for `gender`?\n",
    "- How do we interpret the coefficients for gender and age?\n",
    "- Are these relationships causal?\n",
    "- Could there be other omitted variables we have not included here that would affect someone's likelihood of correcting misinformation? "
   ]
  },
  {
   "cell_type": "code",
   "execution_count": null,
   "id": "514a4244-d1f7-4530-9ca6-ff782fdd45fd",
   "metadata": {},
   "outputs": [],
   "source": [
    "summary(lm(NULL))"
   ]
  },
  {
   "cell_type": "markdown",
   "id": "42394551-fd1b-47b4-b61f-ee24cbe9b8cc",
   "metadata": {},
   "source": [
    "## Experimental Analysis \n",
    "\n",
    "First, run a bivariate regression, regressing `correction` (outcome) on `treatment`. \n",
    "\n",
    "- What is the baseline condition for `treatment`?\n",
    "- How do you interpret the coefficients in your regression? "
   ]
  },
  {
   "cell_type": "code",
   "execution_count": null,
   "id": "23d179a6-bb42-49b7-b2c5-efaba6413fcf",
   "metadata": {},
   "outputs": [],
   "source": [
    "#ignore this cell of code but make sure you run it\n",
    "library(tidyverse)\n",
    "\n",
    "data <- data %>% mutate(treatment=factor(treatment)) %>% \n",
    "  mutate(treatment=fct_relevel(treatment,c(\"control\",\"acceptability\",\"responsibility\"))) %>%\n",
    " arrange(treatment)"
   ]
  },
  {
   "cell_type": "code",
   "execution_count": null,
   "id": "50a60922-e76d-4b93-92cd-75f4115a432e",
   "metadata": {},
   "outputs": [],
   "source": [
    "summary(lm(NULL))"
   ]
  },
  {
   "cell_type": "markdown",
   "id": "2167e8cc-58e0-4861-9465-54d6f977c7d1",
   "metadata": {},
   "source": [
    "Now, confirm regression results by calculating difference in means in outcome (`correction`) between (1) control and acceptability conditions, and (2) control and responsibility conditions."
   ]
  },
  {
   "cell_type": "code",
   "execution_count": null,
   "id": "e96b6935-82d6-4426-906e-263cb7a3df33",
   "metadata": {},
   "outputs": [],
   "source": [
    "#compare control to acceptability\n",
    "difference_in_means(NULL)\n",
    "\n",
    "#compare control to responsibility \n",
    "difference_in_means(NULL)"
   ]
  },
  {
   "cell_type": "markdown",
   "id": "c9310c83-20e4-4e3e-aa6c-d8dbb85122f7",
   "metadata": {},
   "source": [
    "Now, let's add some covariates to our previous regression. These covariates must be pre-treatment, that is they are unaffected by treatment. Add covariates for gender, age, and employment to your regression. \n",
    "\n",
    "- Which coefficients are causal and which are not?\n",
    "- How would you interpret the estimate for acceptability now?\n",
    "- Are any of the variables predictive of the outcome?\n",
    "- Why did we include these covariates in the regression?\n",
    "- Did including covariates reduce the standard error of our treatment coefficients?"
   ]
  },
  {
   "cell_type": "code",
   "execution_count": null,
   "id": "8dee2020-7f05-4cee-8934-acf8ae8ec227",
   "metadata": {},
   "outputs": [],
   "source": [
    "summary(lm(NULL))"
   ]
  }
 ],
 "metadata": {
  "kernelspec": {
   "display_name": "R",
   "language": "R",
   "name": "ir"
  },
  "language_info": {
   "codemirror_mode": "r",
   "file_extension": ".r",
   "mimetype": "text/x-r-source",
   "name": "R",
   "pygments_lexer": "r",
   "version": "4.3.2"
  }
 },
 "nbformat": 4,
 "nbformat_minor": 5
}
