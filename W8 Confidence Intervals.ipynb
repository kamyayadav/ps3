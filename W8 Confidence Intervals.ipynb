{
 "cells": [
  {
   "cell_type": "markdown",
   "id": "37c6780b-fba5-4c9b-8772-1d8bf39bf023",
   "metadata": {},
   "source": [
    "# W8: Confidence Intervals\n",
    "\n",
    "This week we will focus on understanding confidence intervals. Even though standard errors give us some sense of how likely is it that our estimate occurs due to chance, they are hard to interpret. Confidence intervals, on the other hand, are easier to interpret and allow us to make inferences about our results. \n",
    "\n",
    "Today, we will focus on: \n",
    "- Calculating confidence intervals\n",
    "- Interpreting confidence intervals\n",
    "- Drawing inference from confidence intervals\n",
    "\n",
    "For this, we will use the experimental data from this week's lecture."
   ]
  },
  {
   "cell_type": "markdown",
   "id": "092ab644-53a0-431d-8b97-6ac90cab78b0",
   "metadata": {},
   "source": [
    "## What are confidence intervals?\n",
    "\n",
    "Confidence intervals tell us, over repeated samples there is a 95 percent chance the confidence interval contains the true average treatment effect.\n",
    "- In every confidence interval, the lower interval indicates the most pessimistic outcome, whereas the upper interval indicates the most optimistic outcome"
   ]
  },
  {
   "cell_type": "code",
   "execution_count": 1,
   "id": "eea473b5-c36b-491c-a003-18a8b544a9b1",
   "metadata": {},
   "outputs": [
    {
     "data": {
      "text/html": [
       "<table class=\"dataframe\">\n",
       "<caption>A data.frame: 6 × 7</caption>\n",
       "<thead>\n",
       "\t<tr><th></th><th scope=col>unique_id</th><th scope=col>treat</th><th scope=col>prop_sd_fem2014</th><th scope=col>sd_onefem2014</th><th scope=col>county</th><th scope=col>pc_male</th><th scope=col>mormon</th></tr>\n",
       "\t<tr><th></th><th scope=col>&lt;int&gt;</th><th scope=col>&lt;chr&gt;</th><th scope=col>&lt;dbl&gt;</th><th scope=col>&lt;int&gt;</th><th scope=col>&lt;chr&gt;</th><th scope=col>&lt;int&gt;</th><th scope=col>&lt;int&gt;</th></tr>\n",
       "</thead>\n",
       "<tbody>\n",
       "\t<tr><th scope=row>1</th><td>27215</td><td>supply </td><td>0.0</td><td>0</td><td>Grand  </td><td>1</td><td>0</td></tr>\n",
       "\t<tr><th scope=row>2</th><td>27386</td><td>control</td><td>0.0</td><td>0</td><td>Grand  </td><td>0</td><td>0</td></tr>\n",
       "\t<tr><th scope=row>3</th><td>27496</td><td>control</td><td>1.0</td><td>1</td><td>Grand  </td><td>1</td><td>0</td></tr>\n",
       "\t<tr><th scope=row>4</th><td>16202</td><td>demand </td><td>1.0</td><td>1</td><td>Daggett</td><td>1</td><td>1</td></tr>\n",
       "\t<tr><th scope=row>5</th><td>16241</td><td>control</td><td>0.5</td><td>1</td><td>Daggett</td><td>1</td><td>0</td></tr>\n",
       "\t<tr><th scope=row>6</th><td>26601</td><td>control</td><td>0.0</td><td>0</td><td>Emery  </td><td>1</td><td>0</td></tr>\n",
       "</tbody>\n",
       "</table>\n"
      ],
      "text/latex": [
       "A data.frame: 6 × 7\n",
       "\\begin{tabular}{r|lllllll}\n",
       "  & unique\\_id & treat & prop\\_sd\\_fem2014 & sd\\_onefem2014 & county & pc\\_male & mormon\\\\\n",
       "  & <int> & <chr> & <dbl> & <int> & <chr> & <int> & <int>\\\\\n",
       "\\hline\n",
       "\t1 & 27215 & supply  & 0.0 & 0 & Grand   & 1 & 0\\\\\n",
       "\t2 & 27386 & control & 0.0 & 0 & Grand   & 0 & 0\\\\\n",
       "\t3 & 27496 & control & 1.0 & 1 & Grand   & 1 & 0\\\\\n",
       "\t4 & 16202 & demand  & 1.0 & 1 & Daggett & 1 & 1\\\\\n",
       "\t5 & 16241 & control & 0.5 & 1 & Daggett & 1 & 0\\\\\n",
       "\t6 & 26601 & control & 0.0 & 0 & Emery   & 1 & 0\\\\\n",
       "\\end{tabular}\n"
      ],
      "text/markdown": [
       "\n",
       "A data.frame: 6 × 7\n",
       "\n",
       "| <!--/--> | unique_id &lt;int&gt; | treat &lt;chr&gt; | prop_sd_fem2014 &lt;dbl&gt; | sd_onefem2014 &lt;int&gt; | county &lt;chr&gt; | pc_male &lt;int&gt; | mormon &lt;int&gt; |\n",
       "|---|---|---|---|---|---|---|---|\n",
       "| 1 | 27215 | supply  | 0.0 | 0 | Grand   | 1 | 0 |\n",
       "| 2 | 27386 | control | 0.0 | 0 | Grand   | 0 | 0 |\n",
       "| 3 | 27496 | control | 1.0 | 1 | Grand   | 1 | 0 |\n",
       "| 4 | 16202 | demand  | 1.0 | 1 | Daggett | 1 | 1 |\n",
       "| 5 | 16241 | control | 0.5 | 1 | Daggett | 1 | 0 |\n",
       "| 6 | 26601 | control | 0.0 | 0 | Emery   | 1 | 0 |\n",
       "\n"
      ],
      "text/plain": [
       "  unique_id treat   prop_sd_fem2014 sd_onefem2014 county  pc_male mormon\n",
       "1 27215     supply  0.0             0             Grand   1       0     \n",
       "2 27386     control 0.0             0             Grand   0       0     \n",
       "3 27496     control 1.0             1             Grand   1       0     \n",
       "4 16202     demand  1.0             1             Daggett 1       1     \n",
       "5 16241     control 0.5             1             Daggett 1       0     \n",
       "6 26601     control 0.0             0             Emery   1       0     "
      ]
     },
     "metadata": {},
     "output_type": "display_data"
    }
   ],
   "source": [
    "#load package and dataset \n",
    "library(estimatr)\n",
    "women <- read.csv(\"ps3_week8_electing_women.csv\")\n",
    "head(women)"
   ]
  },
  {
   "cell_type": "markdown",
   "id": "5b7247c9-e0e9-46e9-8d75-0e074d6bfe3a",
   "metadata": {},
   "source": [
    "As a reminder, here is what each variable means: \n",
    "\n",
    "- `unique_id`: Precinct ID\n",
    "- `treat`: treatment variable\n",
    "    - `'control'`: control group\n",
    "    - `'supply'`: supply group; party chair instructed to recruit 2-3 women\n",
    "    - `'demand'`: demand group; party chair reads letter at precinct convention\n",
    "    - `'both'`: a fourth group getting both the supply and demand treatments; party chair instructed to read letter *and* to recruit 2-3 women\n",
    "- `prop_sd_fem2014`: Proportion of 2014 elected state delegates from that precinct who were women\n",
    "- `sd_onefem2014`: 1 if at least one woman was selected; 0 otherwise\n",
    "- `county` : County name in Utah\n",
    "- `pc_male`: 1 if precinct chair is male; 0 otherwise (precinct chair is person who runs precinct meeting, would read letter if assigned to do so, etc.)"
   ]
  },
  {
   "cell_type": "markdown",
   "id": "b47b5753-5fd3-4a9d-856a-c7f409b02ae6",
   "metadata": {},
   "source": [
    "Calculate the effect of the `both` treatment condition, relative to the control condition on at least one women being elected in 2014 (`sd_onefem2014`)."
   ]
  },
  {
   "cell_type": "code",
   "execution_count": null,
   "id": "e7b51ab9-47c1-4a26-b184-f8fa5131ff9d",
   "metadata": {},
   "outputs": [],
   "source": [
    "both.dim <- NULL #your code here\n",
    "both.dim"
   ]
  },
  {
   "cell_type": "markdown",
   "id": "b7e158b0-b3fa-4143-afbd-ac73cb3ed032",
   "metadata": {},
   "source": [
    "Now extract the lower bound of the confidence interval and the higher bound of the confidence interval. (Hint: Refer to the cheatsheet if you don't remember how to do this.)"
   ]
  },
  {
   "cell_type": "code",
   "execution_count": null,
   "id": "2dad39a1-b20d-4d7f-a844-8d9130be6120",
   "metadata": {},
   "outputs": [],
   "source": [
    "ci.lower <- NULL #your code here\n",
    "ci.lower"
   ]
  },
  {
   "cell_type": "code",
   "execution_count": null,
   "id": "feeba1d5-66c8-4233-a97f-9b97f3b7d688",
   "metadata": {},
   "outputs": [],
   "source": [
    "ci.upper <- NULL #your code here\n",
    "ci.upper"
   ]
  },
  {
   "cell_type": "markdown",
   "id": "0e59ecdd-9c7b-4f11-b4f2-c1e0c04acd2b",
   "metadata": {},
   "source": [
    "If you were going to recommend rolling out the letter with both the supply and demand information to 3000 precincts, what is the range of possible outcomes you could achieve? "
   ]
  },
  {
   "cell_type": "code",
   "execution_count": null,
   "id": "d4857376-e6aa-41a2-bbaa-7af17c921b27",
   "metadata": {},
   "outputs": [],
   "source": [
    "best.outcome <- NULL #your code here\n",
    "best.outcome "
   ]
  },
  {
   "cell_type": "code",
   "execution_count": null,
   "id": "a9bc79c8-39d4-4c90-a64c-6a81df53fdc9",
   "metadata": {},
   "outputs": [],
   "source": [
    "worst.outcome <- NULL #your code here\n",
    "worst.outcome "
   ]
  },
  {
   "cell_type": "markdown",
   "id": "93bf55d3-a89d-411c-b80a-8e8d13cef7d6",
   "metadata": {},
   "source": [
    "Interpret your results: \n",
    "\n",
    "- What does your estimate mean?\n",
    "- Is your t-statistic statistically significant?\n",
    "- Is your p-value statistically significant?\n",
    "- What does your confidence interval mean?\n",
    "- How would you describe the range of possible outcomes if you were to roll out the `both` letter to 3000 precincts?"
   ]
  }
 ],
 "metadata": {
  "kernelspec": {
   "display_name": "R",
   "language": "R",
   "name": "ir"
  },
  "language_info": {
   "codemirror_mode": "r",
   "file_extension": ".r",
   "mimetype": "text/x-r-source",
   "name": "R",
   "pygments_lexer": "r",
   "version": "4.3.2"
  }
 },
 "nbformat": 4,
 "nbformat_minor": 5
}
