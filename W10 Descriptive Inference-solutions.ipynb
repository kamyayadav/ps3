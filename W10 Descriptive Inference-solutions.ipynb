{
 "cells": [
  {
   "cell_type": "markdown",
   "id": "c975d00f-6c74-4db1-9c58-6030a5c20411",
   "metadata": {},
   "source": [
    "# Week 10: Descriptive Inference (Solutions)\n",
    "\n",
    "This week we will focus on using the `difference_in_means()` function to conduct descriptive inference. We will use the CCES survey data from after the 2020 election. \n",
    "\n",
    "As a reminder, this is what the variables mean: \n",
    "\n",
    "- `vvweight_post`: Survey weight\n",
    "- `person_of_color`: `1` if person identifies as a person of color; `0` if person identifies as non-Hispanic white\n",
    "- `college`: `1` if the person graduated from college; `0` if the person did not\n",
    "- `female`: `1` if the person identifies as female; `0` otherwise\n",
    "- `medicare_expand`: `1` if the person favors expanding Medicare; `0` otherwise\n",
    "- `vote_wait`: How long someone said they had to wait to vote. Rounded to 0, 5, 15, 45, or 90 minutes. `NA` means missing (question was not asked), `difference_in_means()` will ignore these cases.\n",
    "- `votereg_problem`: Encountered a problem when they tried to vote (e.g., ID was rejected, didn't appear on voter registration list); `0` = no; `1` = yes"
   ]
  },
  {
   "cell_type": "code",
   "execution_count": 1,
   "id": "e9c9db9d-a70e-49b3-aced-c12499c32b99",
   "metadata": {},
   "outputs": [
    {
     "data": {
      "text/html": [
       "<table class=\"dataframe\">\n",
       "<caption>A data.frame: 6 × 7</caption>\n",
       "<thead>\n",
       "\t<tr><th></th><th scope=col>vvweight_post</th><th scope=col>person_of_color</th><th scope=col>college</th><th scope=col>female</th><th scope=col>medicare_expand</th><th scope=col>vote_wait</th><th scope=col>votereg_problem</th></tr>\n",
       "\t<tr><th></th><th scope=col>&lt;dbl&gt;</th><th scope=col>&lt;int&gt;</th><th scope=col>&lt;int&gt;</th><th scope=col>&lt;int&gt;</th><th scope=col>&lt;int&gt;</th><th scope=col>&lt;int&gt;</th><th scope=col>&lt;int&gt;</th></tr>\n",
       "</thead>\n",
       "<tbody>\n",
       "\t<tr><th scope=row>1</th><td>0.6065928</td><td>0</td><td>1</td><td>0</td><td>0</td><td>NA</td><td>0</td></tr>\n",
       "\t<tr><th scope=row>2</th><td>0.5533137</td><td>1</td><td>1</td><td>0</td><td>1</td><td>NA</td><td>0</td></tr>\n",
       "\t<tr><th scope=row>3</th><td>0.9029812</td><td>0</td><td>0</td><td>1</td><td>1</td><td>NA</td><td>0</td></tr>\n",
       "\t<tr><th scope=row>4</th><td>0.8359022</td><td>0</td><td>1</td><td>1</td><td>1</td><td>15</td><td>0</td></tr>\n",
       "\t<tr><th scope=row>5</th><td>0.3900869</td><td>0</td><td>0</td><td>1</td><td>1</td><td>NA</td><td>0</td></tr>\n",
       "\t<tr><th scope=row>6</th><td>0.8777516</td><td>1</td><td>0</td><td>1</td><td>1</td><td> 0</td><td>0</td></tr>\n",
       "</tbody>\n",
       "</table>\n"
      ],
      "text/latex": [
       "A data.frame: 6 × 7\n",
       "\\begin{tabular}{r|lllllll}\n",
       "  & vvweight\\_post & person\\_of\\_color & college & female & medicare\\_expand & vote\\_wait & votereg\\_problem\\\\\n",
       "  & <dbl> & <int> & <int> & <int> & <int> & <int> & <int>\\\\\n",
       "\\hline\n",
       "\t1 & 0.6065928 & 0 & 1 & 0 & 0 & NA & 0\\\\\n",
       "\t2 & 0.5533137 & 1 & 1 & 0 & 1 & NA & 0\\\\\n",
       "\t3 & 0.9029812 & 0 & 0 & 1 & 1 & NA & 0\\\\\n",
       "\t4 & 0.8359022 & 0 & 1 & 1 & 1 & 15 & 0\\\\\n",
       "\t5 & 0.3900869 & 0 & 0 & 1 & 1 & NA & 0\\\\\n",
       "\t6 & 0.8777516 & 1 & 0 & 1 & 1 &  0 & 0\\\\\n",
       "\\end{tabular}\n"
      ],
      "text/markdown": [
       "\n",
       "A data.frame: 6 × 7\n",
       "\n",
       "| <!--/--> | vvweight_post &lt;dbl&gt; | person_of_color &lt;int&gt; | college &lt;int&gt; | female &lt;int&gt; | medicare_expand &lt;int&gt; | vote_wait &lt;int&gt; | votereg_problem &lt;int&gt; |\n",
       "|---|---|---|---|---|---|---|---|\n",
       "| 1 | 0.6065928 | 0 | 1 | 0 | 0 | NA | 0 |\n",
       "| 2 | 0.5533137 | 1 | 1 | 0 | 1 | NA | 0 |\n",
       "| 3 | 0.9029812 | 0 | 0 | 1 | 1 | NA | 0 |\n",
       "| 4 | 0.8359022 | 0 | 1 | 1 | 1 | 15 | 0 |\n",
       "| 5 | 0.3900869 | 0 | 0 | 1 | 1 | NA | 0 |\n",
       "| 6 | 0.8777516 | 1 | 0 | 1 | 1 |  0 | 0 |\n",
       "\n"
      ],
      "text/plain": [
       "  vvweight_post person_of_color college female medicare_expand vote_wait\n",
       "1 0.6065928     0               1       0      0               NA       \n",
       "2 0.5533137     1               1       0      1               NA       \n",
       "3 0.9029812     0               0       1      1               NA       \n",
       "4 0.8359022     0               1       1      1               15       \n",
       "5 0.3900869     0               0       1      1               NA       \n",
       "6 0.8777516     1               0       1      1                0       \n",
       "  votereg_problem\n",
       "1 0              \n",
       "2 0              \n",
       "3 0              \n",
       "4 0              \n",
       "5 0              \n",
       "6 0              "
      ]
     },
     "metadata": {},
     "output_type": "display_data"
    }
   ],
   "source": [
    "#load the package and data \n",
    "library(estimatr)\n",
    "\n",
    "data <- read.csv(\"ps3_cces2020_post.csv\")\n",
    "head(data)"
   ]
  },
  {
   "cell_type": "markdown",
   "id": "6e17ace9-222f-4488-8dba-663bde182a73",
   "metadata": {},
   "source": [
    "What is the relationship between being a person of color and having trouble voting? \n",
    "\n",
    "Calculate the weighted difference in means using the `person_of_color` and `votereg_problem` variables. As a reminder, when the group variable is binary (that is, 1/0) you do not need to specify condition1 and condition2. The function will calculate the likelihood of encountering trouble voting if you are a person of color versus if you are not a person of color. "
   ]
  },
  {
   "cell_type": "code",
   "execution_count": 5,
   "id": "94f0506d-e00a-431d-9ebf-747459578e43",
   "metadata": {},
   "outputs": [
    {
     "data": {
      "text/plain": [
       "Design:  Standard (weighted) \n",
       "                  Estimate Std. Error  t value  Pr(>|t|)     CI Lower\n",
       "person_of_color 0.01100867 0.00685321 1.606353 0.1082332 -0.002425268\n",
       "                  CI Upper   DF\n",
       "person_of_color 0.02444261 8580"
      ]
     },
     "metadata": {},
     "output_type": "display_data"
    }
   ],
   "source": [
    "#remember to add an argument for the survey weights\n",
    "poc.vote.trouble <- difference_in_means(votereg_problem ~ person_of_color, data, weight = vvweight_post)\n",
    "poc.vote.trouble"
   ]
  },
  {
   "cell_type": "markdown",
   "id": "7d7920ad-bca2-457c-983c-dc84868a1449",
   "metadata": {},
   "source": [
    "## Interpretation\n",
    "\n",
    "Reminder for what each number in the output \n",
    "- The **estimate** gives us the difference between the groups in this sample, and is our best guess about what the differences between the groups are in the population.\n",
    "- **Standard errors** measure *how noisy* our estimate is. In this case noise is generated by the fact that our random sample might have randomly sampled a very slightly unrepresentative group.\n",
    "- **$p$-values** measure the probability we would see a difference between the two groups as large as we did even if, in the population, the groups were exactly the same.\n",
    "- In 95% of random samples, the **confidence intervals** will contain the true difference between the groups in the population.\n",
    "\n",
    "Based on this, interpret your: \n",
    "- Estimate: Relative to those who don't identify as POC, being a POC is associated with a 1.1 percentage point higher likelihood of encountering trouble while voting.\n",
    "- P-value: There is a 10.8 percentage chance of observing an estimate as big or bigger than 0.011 if there was no difference in encountering trouble while voting being a POC and not being a POC.\n",
    "- 95% confidence interval: Over repeated samples, there is a 95% chance that the true difference between the groups lies between -0.002 and 0.02."
   ]
  }
 ],
 "metadata": {
  "kernelspec": {
   "display_name": "R",
   "language": "R",
   "name": "ir"
  },
  "language_info": {
   "codemirror_mode": "r",
   "file_extension": ".r",
   "mimetype": "text/x-r-source",
   "name": "R",
   "pygments_lexer": "r",
   "version": "4.3.2"
  }
 },
 "nbformat": 4,
 "nbformat_minor": 5
}
