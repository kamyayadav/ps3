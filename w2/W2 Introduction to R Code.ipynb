{
 "cells": [
  {
   "cell_type": "markdown",
   "id": "9afc41af-55c3-410f-a34c-df92cbc0168a",
   "metadata": {},
   "source": [
    "# Week 2: Introduction to R Code"
   ]
  },
  {
   "cell_type": "markdown",
   "id": "158a691a-5e7d-4116-a5d7-b1f6009c5d82",
   "metadata": {},
   "source": [
    "Today, we will go over the following R coding concepts using the Stanford store data from Monday's lecture: \n",
    "- Loading a dataset and viewing it\n",
    "- Assigning variables\n",
    "- Selecting a column from a dataset\n",
    "- Calculating the mean of data"
   ]
  },
  {
   "cell_type": "markdown",
   "id": "747083c7-a04b-4c17-a426-909384c9cfcd",
   "metadata": {},
   "source": [
    "## Let's practice reading in data and viewing it"
   ]
  },
  {
   "cell_type": "code",
   "execution_count": 4,
   "id": "1c66837e-0401-427e-a3bf-5ac15b20d07d",
   "metadata": {},
   "outputs": [
    {
     "data": {
      "text/html": [
       "<table class=\"dataframe\">\n",
       "<caption>A data.frame: 5 × 4</caption>\n",
       "<thead>\n",
       "\t<tr><th scope=col>Month</th><th scope=col>Hoodie</th><th scope=col>Sweater</th><th scope=col>OskiShirt</th></tr>\n",
       "\t<tr><th scope=col>&lt;chr&gt;</th><th scope=col>&lt;int&gt;</th><th scope=col>&lt;int&gt;</th><th scope=col>&lt;int&gt;</th></tr>\n",
       "</thead>\n",
       "<tbody>\n",
       "\t<tr><td>Jan  </td><td>180</td><td>150</td><td>801</td></tr>\n",
       "\t<tr><td>Feb  </td><td>154</td><td>180</td><td>651</td></tr>\n",
       "\t<tr><td>March</td><td>108</td><td>150</td><td>726</td></tr>\n",
       "\t<tr><td>April</td><td> 90</td><td>130</td><td>489</td></tr>\n",
       "\t<tr><td>May  </td><td> 59</td><td>115</td><td>552</td></tr>\n",
       "</tbody>\n",
       "</table>\n"
      ],
      "text/latex": [
       "A data.frame: 5 × 4\n",
       "\\begin{tabular}{llll}\n",
       " Month & Hoodie & Sweater & OskiShirt\\\\\n",
       " <chr> & <int> & <int> & <int>\\\\\n",
       "\\hline\n",
       "\t Jan   & 180 & 150 & 801\\\\\n",
       "\t Feb   & 154 & 180 & 651\\\\\n",
       "\t March & 108 & 150 & 726\\\\\n",
       "\t April &  90 & 130 & 489\\\\\n",
       "\t May   &  59 & 115 & 552\\\\\n",
       "\\end{tabular}\n"
      ],
      "text/markdown": [
       "\n",
       "A data.frame: 5 × 4\n",
       "\n",
       "| Month &lt;chr&gt; | Hoodie &lt;int&gt; | Sweater &lt;int&gt; | OskiShirt &lt;int&gt; |\n",
       "|---|---|---|---|\n",
       "| Jan   | 180 | 150 | 801 |\n",
       "| Feb   | 154 | 180 | 651 |\n",
       "| March | 108 | 150 | 726 |\n",
       "| April |  90 | 130 | 489 |\n",
       "| May   |  59 | 115 | 552 |\n",
       "\n"
      ],
      "text/plain": [
       "  Month Hoodie Sweater OskiShirt\n",
       "1 Jan   180    150     801      \n",
       "2 Feb   154    180     651      \n",
       "3 March 108    150     726      \n",
       "4 April  90    130     489      \n",
       "5 May    59    115     552      "
      ]
     },
     "metadata": {},
     "output_type": "display_data"
    }
   ],
   "source": [
    "#read in the store data \n",
    "storedata <- read.csv('activity_notebook1.csv')\n",
    "storedata "
   ]
  },
  {
   "cell_type": "markdown",
   "id": "80922aaa-313a-4394-8edd-fc6cc6792538",
   "metadata": {},
   "source": [
    "In this code chunk, we have already learned three different commands: \n",
    "- We loaded in data using read.csv\n",
    "- We previewed the data\n",
    "- We assigned data to a variable"
   ]
  },
  {
   "cell_type": "markdown",
   "id": "4ce0407a-465c-4f4a-8ed0-d85415012d01",
   "metadata": {},
   "source": [
    "## Now let's practice choosing a column from the data"
   ]
  },
  {
   "cell_type": "markdown",
   "id": "dd0ef1f8-35b1-48e3-aec1-9ce0e4c901e8",
   "metadata": {},
   "source": [
    "Using the code we learned in Monday's lecture video, in the following code chunk, select the column 'Hoodie'"
   ]
  },
  {
   "cell_type": "code",
   "execution_count": 5,
   "id": "df7f4e19-a260-4079-9361-33a5b2380f04",
   "metadata": {},
   "outputs": [],
   "source": [
    "## Your code here"
   ]
  },
  {
   "cell_type": "markdown",
   "id": "1c2dda85-6f0a-49e4-8a3f-62e5053e5646",
   "metadata": {},
   "source": [
    "What if we want to know on average, how many hoodies were sold in the store? We can calculate that using the mean() function."
   ]
  },
  {
   "cell_type": "code",
   "execution_count": 6,
   "id": "ec830f66-cb9e-4171-885c-110b20f5fb5c",
   "metadata": {},
   "outputs": [],
   "source": [
    "## Your code here"
   ]
  }
 ],
 "metadata": {
  "kernelspec": {
   "display_name": "R",
   "language": "R",
   "name": "ir"
  },
  "language_info": {
   "codemirror_mode": "r",
   "file_extension": ".r",
   "mimetype": "text/x-r-source",
   "name": "R",
   "pygments_lexer": "r",
   "version": "4.3.2"
  }
 },
 "nbformat": 4,
 "nbformat_minor": 5
}
